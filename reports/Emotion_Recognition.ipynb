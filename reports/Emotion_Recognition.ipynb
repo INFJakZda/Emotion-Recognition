{
  "nbformat": 4,
  "nbformat_minor": 0,
  "metadata": {
    "colab": {
      "name": "Emotion-Recognition.ipynb",
      "provenance": [],
      "toc_visible": true,
      "mount_file_id": "1Ln6PqOazFoNJQgW_YMHW_jG2Gs3HJFsW",
      "authorship_tag": "ABX9TyN017lSBdOTZfrDMXiDtT/a",
      "include_colab_link": true
    },
    "kernelspec": {
      "name": "python3",
      "display_name": "Python 3"
    },
    "accelerator": "GPU"
  },
  "cells": [
    {
      "cell_type": "markdown",
      "metadata": {
        "id": "view-in-github",
        "colab_type": "text"
      },
      "source": [
        "<a href=\"https://colab.research.google.com/github/INFJakZda/Emotion-Recognition/blob/master/reports/Emotion_Recognition.ipynb\" target=\"_parent\"><img src=\"https://colab.research.google.com/assets/colab-badge.svg\" alt=\"Open In Colab\"/></a>"
      ]
    },
    {
      "cell_type": "markdown",
      "metadata": {
        "id": "XX5917kxRHqt",
        "colab_type": "text"
      },
      "source": [
        "# Importowanie bibliotek"
      ]
    },
    {
      "cell_type": "code",
      "metadata": {
        "id": "PhmDQwc_RTEC",
        "colab_type": "code",
        "colab": {
          "base_uri": "https://localhost:8080/",
          "height": 34
        },
        "outputId": "42767311-0fe1-4541-df88-249084f49162"
      },
      "source": [
        "import argparse\n",
        "import io\n",
        "import json\n",
        "import os\n",
        "import re\n",
        "import numpy as np\n",
        "from matplotlib import pyplot as plt\n",
        "\n",
        "from pylab import rcParams\n",
        "\n",
        "import tensorflow as tf\n",
        "print(tf.__version__)\n",
        "\n",
        "import torch\n",
        "\n",
        "from keras import optimizers\n",
        "from keras.layers import Dense, Embedding, LSTM, Bidirectional\n",
        "from keras.models import Sequential\n",
        "from keras.preprocessing.sequence import pad_sequences\n",
        "from keras.preprocessing.text import Tokenizer\n",
        "from keras.utils import to_categorical"
      ],
      "execution_count": 1,
      "outputs": [
        {
          "output_type": "stream",
          "text": [
            "2.3.0\n"
          ],
          "name": "stdout"
        }
      ]
    },
    {
      "cell_type": "code",
      "metadata": {
        "id": "83G5cOreJFQR",
        "colab_type": "code",
        "colab": {
          "base_uri": "https://localhost:8080/",
          "height": 34
        },
        "outputId": "f65e5014-d7a7-4647-d366-85e5548226f3"
      },
      "source": [
        "from google.colab import drive\n",
        "drive.mount('/content/drive')"
      ],
      "execution_count": 2,
      "outputs": [
        {
          "output_type": "stream",
          "text": [
            "Drive already mounted at /content/drive; to attempt to forcibly remount, call drive.mount(\"/content/drive\", force_remount=True).\n"
          ],
          "name": "stdout"
        }
      ]
    },
    {
      "cell_type": "markdown",
      "metadata": {
        "id": "tqEiwUivRQhM",
        "colab_type": "text"
      },
      "source": [
        "# Funkcje pomocnicze"
      ]
    },
    {
      "cell_type": "markdown",
      "metadata": {
        "id": "k29zUFVlRCqX",
        "colab_type": "text"
      },
      "source": [
        "## Definicja stałych"
      ]
    },
    {
      "cell_type": "code",
      "metadata": {
        "id": "xvIDBfw-J1Uj",
        "colab_type": "code",
        "colab": {}
      },
      "source": [
        "EMBEDDING_DIM=100\n",
        "LSTM_DIM=120\n",
        "NUM_CLASSES=4\n",
        "MAX_SEQUENCE_LENGTH=200\n",
        "DROPOUT=0.2\n",
        "LEARNING_RATE=0.003\n",
        "NUM_FOLDS=5\n",
        "MAX_NB_WORDS=20000\n",
        "BATCH_SIZE=200\n",
        "NUM_EPOCHS=100"
      ],
      "execution_count": 3,
      "outputs": []
    },
    {
      "cell_type": "code",
      "metadata": {
        "id": "HJ3WBPefVBT0",
        "colab_type": "code",
        "colab": {}
      },
      "source": [
        "mainPath = '/content/drive/My Drive/Magisterka/'\n",
        "\n",
        "trainDataPath = mainPath + 'train.txt'\n",
        "devDataPath = mainPath + 'test.txt'\n",
        "testDataPath = mainPath + 'test.txt'\n",
        "\n",
        "solutionPath = mainPath + 'solution/'\n",
        "\n",
        "gloveDir = mainPath + 'glove.6B.100d.txt'\n",
        "\n",
        "label2emotion = {0: \"others\", 1: \"happy\", 2: \"sad\", 3: \"angry\"}\n",
        "emotion2label = {\"others\": 0, \"happy\": 1, \"sad\": 2, \"angry\": 3}"
      ],
      "execution_count": 4,
      "outputs": []
    },
    {
      "cell_type": "markdown",
      "metadata": {
        "id": "Ar3GMjxnm3FN",
        "colab_type": "text"
      },
      "source": [
        "## Funkcje pomocnicze"
      ]
    },
    {
      "cell_type": "code",
      "metadata": {
        "id": "cvsMNMSPPDmf",
        "colab_type": "code",
        "colab": {}
      },
      "source": [
        "def getOneLayerLSTM(embeddingMatrix):\n",
        "    \"\"\"Constructs the architecture of the model\n",
        "    Input:\n",
        "        embeddingMatrix : The embedding matrix to be loaded in the embedding layer.\n",
        "    Output:\n",
        "        model : A basic LSTM model\n",
        "    \"\"\"\n",
        "    embeddingLayer = Embedding(embeddingMatrix.shape[0],\n",
        "                               EMBEDDING_DIM,\n",
        "                               weights=[embeddingMatrix],\n",
        "                               input_length=MAX_SEQUENCE_LENGTH,\n",
        "                               trainable=False)\n",
        "    model = Sequential(name=\"Jednowarstwowa architektura LSTM\")\n",
        "    model.add(embeddingLayer)\n",
        "    model.add(LSTM(LSTM_DIM, dropout=DROPOUT))\n",
        "    model.add(Dense(NUM_CLASSES, activation='sigmoid'))\n",
        "\n",
        "    rmsprop = tf.keras.optimizers.RMSprop(lr=LEARNING_RATE)\n",
        "    model.compile(loss='categorical_crossentropy',\n",
        "                  optimizer=rmsprop,\n",
        "                  metrics=['acc'])\n",
        "    return model"
      ],
      "execution_count": 11,
      "outputs": []
    },
    {
      "cell_type": "code",
      "metadata": {
        "id": "q7xHhWSXO8BM",
        "colab_type": "code",
        "colab": {}
      },
      "source": [
        "def getDeepLSTM(embeddingMatrix):\n",
        "    \"\"\"Constructs the architecture of the model\n",
        "    Input:\n",
        "        embeddingMatrix : The embedding matrix to be loaded in the embedding layer.\n",
        "    Output:\n",
        "        model : A deep LSTM model\n",
        "    \"\"\"\n",
        "    embeddingLayer = Embedding(embeddingMatrix.shape[0],\n",
        "                               EMBEDDING_DIM,\n",
        "                               weights=[embeddingMatrix],\n",
        "                               input_length=MAX_SEQUENCE_LENGTH,\n",
        "                               trainable=False)\n",
        "    model = Sequential(name=\"Głęboka architektura LSTM\")\n",
        "    model.add(embeddingLayer)\n",
        "    model.add(Bidirectional(LSTM(LSTM_DIM, dropout=DROPOUT, return_sequences=True)))\n",
        "    model.add(Bidirectional(LSTM(LSTM_DIM, dropout=DROPOUT, return_sequences=True)))\n",
        "    model.add(Bidirectional(LSTM(LSTM_DIM)))\n",
        "    model.add(Dense(LSTM_DIM, activation='relu'))\n",
        "    model.add(Dense(64, activation='relu'))\n",
        "    model.add(Dense(NUM_CLASSES, activation='softmax'))\n",
        "\n",
        "    rmsprop = tf.keras.optimizers.RMSprop(lr=LEARNING_RATE)\n",
        "    model.compile(loss='categorical_crossentropy',\n",
        "                  optimizer=rmsprop,\n",
        "                  metrics=['acc'])\n",
        "    return model"
      ],
      "execution_count": 12,
      "outputs": []
    },
    {
      "cell_type": "code",
      "metadata": {
        "id": "uC_UksqOKgla",
        "colab_type": "code",
        "colab": {}
      },
      "source": [
        "def preprocessData(dataFilePath, mode, eos=\" <eos> \"):\n",
        "    \"\"\"Load data from a file, process and return indices, conversations and labels in separate lists\n",
        "    Input:\n",
        "        dataFilePath : Path to train/test file to be processed\n",
        "        mode : \"train\" mode returns labels. \"test\" mode doesn't return labels.\n",
        "    Output:\n",
        "        indices : Unique conversation ID list\n",
        "        conversations : List of 3 turn conversations, processed and each turn separated by the <eos> tag\n",
        "        labels : [Only available in \"train\" mode] List of labels\n",
        "    \"\"\"\n",
        "    indices = []\n",
        "    conversations = []\n",
        "    labels = []\n",
        "    with io.open(dataFilePath, encoding=\"utf8\") as finput:\n",
        "        finput.readline()\n",
        "        for line in finput:\n",
        "            # Convert multiple instances of . ? ! , to single instance\n",
        "            # okay...sure -> okay . sure\n",
        "            # okay???sure -> okay ? sure\n",
        "            # Add whitespace around such punctuation\n",
        "            # okay!sure -> okay ! sure\n",
        "            repeatedChars = ['.', '?', '!', ',']\n",
        "            for c in repeatedChars:\n",
        "                lineSplit = line.split(c)\n",
        "                while True:\n",
        "                    try:\n",
        "                        lineSplit.remove('')\n",
        "                    except:\n",
        "                        break\n",
        "                cSpace = ' ' + c + ' '\n",
        "                line = cSpace.join(lineSplit)\n",
        "\n",
        "            line = line.strip().split('\\t')\n",
        "            if mode == \"train\":\n",
        "                # Train data contains id, 3 turns and label\n",
        "                label = emotion2label[line[4]]\n",
        "                labels.append(label)\n",
        "\n",
        "            conv = f'{eos}'.join(line[1:4])\n",
        "\n",
        "            # Remove any duplicate spaces\n",
        "            duplicateSpacePattern = re.compile(r'\\ +')\n",
        "            conv = re.sub(duplicateSpacePattern, ' ', conv)\n",
        "\n",
        "            indices.append(int(line[0]))\n",
        "            conversations.append(conv.lower())\n",
        "\n",
        "    if mode == \"train\":\n",
        "        return indices, conversations, labels\n",
        "    else:\n",
        "        return indices, conversations"
      ],
      "execution_count": 13,
      "outputs": []
    },
    {
      "cell_type": "code",
      "metadata": {
        "id": "wcorzi3ydOo_",
        "colab_type": "code",
        "colab": {}
      },
      "source": [
        "def preprocessBertData(dataFilePath, mode, eos=\" <eos> \"):\n",
        "    \"\"\"Load data from a file, process and return indices, conversations and labels in separate lists\n",
        "    Input:\n",
        "        dataFilePath : Path to train/test file to be processed\n",
        "        mode : \"train\" mode returns labels. \"test\" mode doesn't return labels.\n",
        "    Output:\n",
        "        indices : Unique conversation ID list\n",
        "        conversations : List of 3 turn conversations, processed and each turn separated by the <eos> tag\n",
        "        labels : [Only available in \"train\" mode] List of labels\n",
        "    \"\"\"\n",
        "    indices = []\n",
        "    conversations = []\n",
        "    labels = []\n",
        "    with io.open(dataFilePath, encoding=\"utf8\") as finput:\n",
        "        finput.readline()\n",
        "        for line in finput:\n",
        "            # Convert multiple instances of . ? ! , to single instance\n",
        "            # okay...sure -> okay . sure\n",
        "            # okay???sure -> okay ? sure\n",
        "            # Add whitespace around such punctuation\n",
        "            # okay!sure -> okay ! sure\n",
        "            repeatedChars = ['.', '?', '!', ',']\n",
        "            for c in repeatedChars:\n",
        "                lineSplit = line.split(c)\n",
        "                while True:\n",
        "                    try:\n",
        "                        lineSplit.remove('')\n",
        "                    except:\n",
        "                        break\n",
        "                cSpace = ' ' + c + ' '\n",
        "                line = cSpace.join(lineSplit)\n",
        "\n",
        "            line = line.strip().split('\\t')\n",
        "            if mode == \"train\":\n",
        "                # Train data contains id, 3 turns and label\n",
        "                label = emotion2label[line[4]]\n",
        "                labels.append(label)\n",
        "\n",
        "            conv = f'{eos}'.join(line[1:4])\n",
        "\n",
        "            # Remove any duplicate spaces\n",
        "            duplicateSpacePattern = re.compile(r'\\ +')\n",
        "            conv = re.sub(duplicateSpacePattern, ' ', conv)\n",
        "\n",
        "            indices.append(int(line[0]))\n",
        "            conversations.append(conv)\n",
        "\n",
        "    if mode == \"train\":\n",
        "        return indices, conversations, labels\n",
        "    else:\n",
        "        return indices, conversations"
      ],
      "execution_count": 14,
      "outputs": []
    },
    {
      "cell_type": "code",
      "metadata": {
        "id": "gKDpnW3xRWO1",
        "colab_type": "code",
        "colab": {}
      },
      "source": [
        "def getMetrics(predictions, ground):\n",
        "    \"\"\"Given predicted labels and the respective ground truth labels, display some metrics\n",
        "    Input: shape [# of samples, NUM_CLASSES]\n",
        "        predictions : Model output. Every row has 4 decimal values, with the highest belonging to the predicted class\n",
        "        ground : Ground truth labels, converted to one-hot encodings. A sample belonging to Happy class will be [0, 1, 0, 0]\n",
        "    Output:\n",
        "        accuracy : Average accuracy\n",
        "        microPrecision : Precision calculated on a micro level. Ref - https://datascience.stackexchange.com/questions/15989/micro-average-vs-macro-average-performance-in-a-multiclass-classification-settin/16001\n",
        "        microRecall : Recall calculated on a micro level\n",
        "        microF1 : Harmonic mean of microPrecision and microRecall. Higher value implies better classification  \n",
        "    \"\"\"\n",
        "    # [0.1, 0.3 , 0.2, 0.1] -> [0, 1, 0, 0]\n",
        "    discretePredictions = to_categorical(predictions.argmax(axis=1))\n",
        "\n",
        "    truePositives = np.sum(discretePredictions * ground, axis=0)\n",
        "    falsePositives = np.sum(np.clip(discretePredictions - ground, 0, 1), axis=0)\n",
        "    falseNegatives = np.sum(np.clip(ground - discretePredictions, 0, 1), axis=0)\n",
        "\n",
        "    print(\"True Positives per class : \", truePositives)\n",
        "    print(\"False Positives per class : \", falsePositives)\n",
        "    print(\"False Negatives per class : \", falseNegatives)\n",
        "\n",
        "    # ------------- Macro level calculation ---------------\n",
        "    macroPrecision = 0\n",
        "    macroRecall = 0\n",
        "    # We ignore the \"Others\" class during the calculation of Precision, Recall and F1\n",
        "    for c in range(1, NUM_CLASSES):\n",
        "        precision = truePositives[c] / (truePositives[c] + falsePositives[c])\n",
        "        macroPrecision += precision\n",
        "        recall = truePositives[c] / (truePositives[c] + falseNegatives[c])\n",
        "        macroRecall += recall\n",
        "        f1 = (2 * recall * precision) / (precision + recall) if (precision + recall) > 0 else 0\n",
        "        print(\"Class %s : Precision : %.3f, Recall : %.3f, F1 : %.3f\" % (label2emotion[c], precision, recall, f1))\n",
        "\n",
        "    macroPrecision /= 3\n",
        "    macroRecall /= 3\n",
        "    macroF1 = (2 * macroRecall * macroPrecision) / (macroPrecision + macroRecall) if (\n",
        "                                                                                             macroPrecision + macroRecall) > 0 else 0\n",
        "    print(\"Ignoring the Others class, Macro Precision : %.4f, Macro Recall : %.4f, Macro F1 : %.4f\" % (\n",
        "        macroPrecision, macroRecall, macroF1))\n",
        "\n",
        "    # ------------- Micro level calculation ---------------\n",
        "    truePositives = truePositives[1:].sum()\n",
        "    falsePositives = falsePositives[1:].sum()\n",
        "    falseNegatives = falseNegatives[1:].sum()\n",
        "\n",
        "    print(\n",
        "        \"Ignoring the Others class, Micro TP : %d, FP : %d, FN : %d\" % (truePositives, falsePositives, falseNegatives))\n",
        "\n",
        "    microPrecision = truePositives / (truePositives + falsePositives)\n",
        "    microRecall = truePositives / (truePositives + falseNegatives)\n",
        "\n",
        "    microF1 = (2 * microRecall * microPrecision) / (microPrecision + microRecall) if (\n",
        "                                                                                             microPrecision + microRecall) > 0 else 0\n",
        "    # -----------------------------------------------------\n",
        "\n",
        "    predictions = predictions.argmax(axis=1)\n",
        "    ground = ground.argmax(axis=1)\n",
        "    accuracy = np.mean(predictions == ground)\n",
        "\n",
        "    print(\"Accuracy : %.4f, Micro Precision : %.4f, Micro Recall : %.4f, Micro F1 : %.4f\" % (\n",
        "        accuracy, microPrecision, microRecall, microF1))\n",
        "    return accuracy, microPrecision, microRecall, microF1"
      ],
      "execution_count": 15,
      "outputs": []
    },
    {
      "cell_type": "code",
      "metadata": {
        "id": "olB06zRUL5v-",
        "colab_type": "code",
        "colab": {}
      },
      "source": [
        "def getEmbeddingMatrix(wordIndex):\n",
        "    \"\"\"Populate an embedding matrix using a word-index. If the word \"happy\" has an index 19,\n",
        "       the 19th row in the embedding matrix should contain the embedding vector for the word \"happy\".\n",
        "    Input:\n",
        "        wordIndex : A dictionary of (word : index) pairs, extracted using a tokeniser\n",
        "    Output:\n",
        "        embeddingMatrix : A matrix where every row has 100 dimensional GloVe embedding\n",
        "    \"\"\"\n",
        "    embeddingsIndex = {}\n",
        "    # Load the embedding vectors from ther GloVe file\n",
        "    with io.open(gloveDir, encoding=\"utf8\") as f:\n",
        "        for line in f:\n",
        "            values = line.split()\n",
        "            word = values[0]\n",
        "            embeddingVector = np.asarray(values[1:], dtype='float32')\n",
        "            embeddingsIndex[word] = embeddingVector\n",
        "\n",
        "    print('Found %s word vectors.' % len(embeddingsIndex))\n",
        "\n",
        "    # Minimum word index of any word is 1. \n",
        "    embeddingMatrix = np.zeros((len(wordIndex) + 1, EMBEDDING_DIM))\n",
        "    for word, i in wordIndex.items():\n",
        "        embeddingVector = embeddingsIndex.get(word)\n",
        "        if embeddingVector is not None:\n",
        "            # words not found in embedding index will be all-zeros.\n",
        "            embeddingMatrix[i] = embeddingVector\n",
        "\n",
        "    return embeddingMatrix"
      ],
      "execution_count": 16,
      "outputs": []
    },
    {
      "cell_type": "markdown",
      "metadata": {
        "id": "rJNaTW9TLbpP",
        "colab_type": "text"
      },
      "source": [
        "# Kod wykonawczy LSTM"
      ]
    },
    {
      "cell_type": "markdown",
      "metadata": {
        "id": "0PaB9bkpLhbq",
        "colab_type": "text"
      },
      "source": [
        "## Przetwarzanie danych LSTM"
      ]
    },
    {
      "cell_type": "code",
      "metadata": {
        "id": "NvrfngZYKmkU",
        "colab_type": "code",
        "colab": {}
      },
      "source": [
        "trainIndices, trainTexts, trainLabels = preprocessData(trainDataPath, mode=\"train\")\n",
        "devIndices, devTexts, devLabels = preprocessData(devDataPath, mode=\"train\")\n",
        "testIndices, testTexts, testLabels = preprocessData(testDataPath, mode=\"train\")"
      ],
      "execution_count": null,
      "outputs": []
    },
    {
      "cell_type": "code",
      "metadata": {
        "id": "Rp0tBYt5KwLW",
        "colab_type": "code",
        "colab": {}
      },
      "source": [
        "tokenizer = Tokenizer(num_words=MAX_NB_WORDS)\n",
        "tokenizer.fit_on_texts(trainTexts)\n",
        "\n",
        "trainSequences = tokenizer.texts_to_sequences(trainTexts)\n",
        "devSequences = tokenizer.texts_to_sequences(devTexts)\n",
        "testSequences = tokenizer.texts_to_sequences(testTexts)"
      ],
      "execution_count": null,
      "outputs": []
    },
    {
      "cell_type": "code",
      "metadata": {
        "id": "CdxqJJZ2SLY3",
        "colab_type": "code",
        "colab": {
          "base_uri": "https://localhost:8080/",
          "height": 34
        },
        "outputId": "1f4cc634-f660-417b-c503-71f19595fcf9"
      },
      "source": [
        "wordIndex = tokenizer.word_index\n",
        "embeddingMatrix = getEmbeddingMatrix(wordIndex)"
      ],
      "execution_count": null,
      "outputs": [
        {
          "output_type": "stream",
          "text": [
            "Found 400000 word vectors.\n"
          ],
          "name": "stdout"
        }
      ]
    },
    {
      "cell_type": "code",
      "metadata": {
        "id": "lLaju_GdSXiV",
        "colab_type": "code",
        "colab": {}
      },
      "source": [
        "dataTrain = pad_sequences(trainSequences, maxlen=MAX_SEQUENCE_LENGTH)\n",
        "dataDev = pad_sequences(devSequences, maxlen=MAX_SEQUENCE_LENGTH)\n",
        "dataTest = pad_sequences(testSequences, maxlen=MAX_SEQUENCE_LENGTH)\n",
        "\n",
        "trainLabels = to_categorical(np.asarray(trainLabels))\n",
        "devLabels = to_categorical(np.asarray(devLabels))\n",
        "testLabels = to_categorical(np.asarray(testLabels))"
      ],
      "execution_count": null,
      "outputs": []
    },
    {
      "cell_type": "markdown",
      "metadata": {
        "id": "uWaYLnQLS0bk",
        "colab_type": "text"
      },
      "source": [
        "## Budowa i ewaluacja modeli"
      ]
    },
    {
      "cell_type": "markdown",
      "metadata": {
        "id": "CR0u6E2vTQfS",
        "colab_type": "text"
      },
      "source": [
        "### Jednowarstwowy LSTM"
      ]
    },
    {
      "cell_type": "code",
      "metadata": {
        "id": "QJqUdH1hXdOg",
        "colab_type": "code",
        "colab": {
          "base_uri": "https://localhost:8080/",
          "height": 255
        },
        "outputId": "5f1a380e-35cd-4f42-c8eb-3d59df233e1e"
      },
      "source": [
        "model = getOneLayerLSTM(embeddingMatrix)\n",
        "\n",
        "model.summary()"
      ],
      "execution_count": null,
      "outputs": [
        {
          "output_type": "stream",
          "text": [
            "Model: \"Jednowarstwowa architektura LSTM\"\n",
            "_________________________________________________________________\n",
            "Layer (type)                 Output Shape              Param #   \n",
            "=================================================================\n",
            "embedding (Embedding)        (None, 200, 100)          1683200   \n",
            "_________________________________________________________________\n",
            "lstm (LSTM)                  (None, 120)               106080    \n",
            "_________________________________________________________________\n",
            "dense (Dense)                (None, 4)                 484       \n",
            "=================================================================\n",
            "Total params: 1,789,764\n",
            "Trainable params: 106,564\n",
            "Non-trainable params: 1,683,200\n",
            "_________________________________________________________________\n"
          ],
          "name": "stdout"
        }
      ]
    },
    {
      "cell_type": "code",
      "metadata": {
        "id": "6oMCWFCTHkGt",
        "colab_type": "code",
        "colab": {
          "base_uri": "https://localhost:8080/",
          "height": 287
        },
        "outputId": "acef6772-22e9-4517-e4ee-5045a0fd3f28"
      },
      "source": [
        "tf.keras.utils.plot_model(model, show_shapes=True, dpi=64)"
      ],
      "execution_count": null,
      "outputs": [
        {
          "output_type": "execute_result",
          "data": {
            "image/png": "[encoded data removed]",
            "text/plain": [
              "<IPython.core.display.Image object>"
            ]
          },
          "metadata": {
            "tags": []
          },
          "execution_count": 22
        }
      ]
    },
    {
      "cell_type": "code",
      "metadata": {
        "id": "KZFDh0dXSvgo",
        "colab_type": "code",
        "colab": {
          "base_uri": "https://localhost:8080/",
          "height": 1000
        },
        "outputId": "0a0ad90f-0afe-48a6-badd-e903c32f008a"
      },
      "source": [
        "history = model.fit(dataTrain, trainLabels, validation_data=(dataDev, devLabels), epochs=NUM_EPOCHS, batch_size=BATCH_SIZE)\n",
        "model.save(mainPath + 'EP%d_LR%de-5_LDim%d_BS%d.h5' % (NUM_EPOCHS, int(LEARNING_RATE * (10 ** 5)), LSTM_DIM, BATCH_SIZE))"
      ],
      "execution_count": null,
      "outputs": [
        {
          "output_type": "stream",
          "text": [
            "Epoch 1/100\n",
            "151/151 [==============================] - 10s 66ms/step - loss: 0.8679 - acc: 0.6491 - val_loss: 0.5086 - val_acc: 0.8067\n",
            "Epoch 2/100\n",
            "151/151 [==============================] - 9s 62ms/step - loss: 0.6003 - acc: 0.7677 - val_loss: 0.3874 - val_acc: 0.8640\n",
            "Epoch 3/100\n",
            "151/151 [==============================] - 9s 61ms/step - loss: 0.5137 - acc: 0.8058 - val_loss: 0.3497 - val_acc: 0.8766\n",
            "Epoch 4/100\n",
            "151/151 [==============================] - 9s 62ms/step - loss: 0.4518 - acc: 0.8293 - val_loss: 0.4391 - val_acc: 0.8461\n",
            "Epoch 5/100\n",
            "151/151 [==============================] - 9s 62ms/step - loss: 0.4131 - acc: 0.8463 - val_loss: 0.4484 - val_acc: 0.8308\n",
            "Epoch 6/100\n",
            "151/151 [==============================] - 9s 62ms/step - loss: 0.3834 - acc: 0.8556 - val_loss: 0.3229 - val_acc: 0.8913\n",
            "Epoch 7/100\n",
            "151/151 [==============================] - 9s 62ms/step - loss: 0.3693 - acc: 0.8607 - val_loss: 0.4034 - val_acc: 0.8584\n",
            "Epoch 8/100\n",
            "151/151 [==============================] - 9s 61ms/step - loss: 0.3469 - acc: 0.8688 - val_loss: 0.3801 - val_acc: 0.8657\n",
            "Epoch 9/100\n",
            "151/151 [==============================] - 9s 62ms/step - loss: 0.3249 - acc: 0.8765 - val_loss: 0.3739 - val_acc: 0.8706\n",
            "Epoch 10/100\n",
            "151/151 [==============================] - 9s 62ms/step - loss: 0.3157 - acc: 0.8815 - val_loss: 0.3809 - val_acc: 0.8700\n",
            "Epoch 11/100\n",
            "151/151 [==============================] - 9s 62ms/step - loss: 0.2927 - acc: 0.8907 - val_loss: 0.4139 - val_acc: 0.8541\n",
            "Epoch 12/100\n",
            "151/151 [==============================] - 9s 62ms/step - loss: 0.2756 - acc: 0.8967 - val_loss: 0.3714 - val_acc: 0.8755\n",
            "Epoch 13/100\n",
            "151/151 [==============================] - 9s 61ms/step - loss: 0.2607 - acc: 0.9005 - val_loss: 0.4077 - val_acc: 0.8633\n",
            "Epoch 14/100\n",
            "151/151 [==============================] - 9s 62ms/step - loss: 0.2423 - acc: 0.9074 - val_loss: 0.4118 - val_acc: 0.8631\n",
            "Epoch 15/100\n",
            "151/151 [==============================] - 9s 62ms/step - loss: 0.2282 - acc: 0.9143 - val_loss: 0.4636 - val_acc: 0.8506\n",
            "Epoch 16/100\n",
            "151/151 [==============================] - 9s 62ms/step - loss: 0.2877 - acc: 0.8937 - val_loss: 0.4438 - val_acc: 0.8575\n",
            "Epoch 17/100\n",
            "151/151 [==============================] - 9s 62ms/step - loss: 0.2136 - acc: 0.9190 - val_loss: 0.4216 - val_acc: 0.8704\n",
            "Epoch 18/100\n",
            "151/151 [==============================] - 9s 62ms/step - loss: 0.2045 - acc: 0.9220 - val_loss: 0.3916 - val_acc: 0.8800\n",
            "Epoch 19/100\n",
            "151/151 [==============================] - 9s 62ms/step - loss: 0.1899 - acc: 0.9287 - val_loss: 0.4513 - val_acc: 0.8648\n",
            "Epoch 20/100\n",
            "151/151 [==============================] - 9s 62ms/step - loss: 0.1833 - acc: 0.9315 - val_loss: 0.4493 - val_acc: 0.8646\n",
            "Epoch 21/100\n",
            "151/151 [==============================] - 9s 62ms/step - loss: 0.1709 - acc: 0.9360 - val_loss: 0.4675 - val_acc: 0.8619\n",
            "Epoch 22/100\n",
            "151/151 [==============================] - 9s 62ms/step - loss: 0.1665 - acc: 0.9383 - val_loss: 0.4790 - val_acc: 0.8600\n",
            "Epoch 23/100\n",
            "151/151 [==============================] - 9s 62ms/step - loss: 0.1552 - acc: 0.9401 - val_loss: 0.5192 - val_acc: 0.8513\n",
            "Epoch 24/100\n",
            "151/151 [==============================] - 9s 62ms/step - loss: 0.1526 - acc: 0.9438 - val_loss: 0.4629 - val_acc: 0.8742\n",
            "Epoch 25/100\n",
            "151/151 [==============================] - 9s 62ms/step - loss: 0.1449 - acc: 0.9454 - val_loss: 0.5492 - val_acc: 0.8506\n",
            "Epoch 26/100\n",
            "151/151 [==============================] - 9s 62ms/step - loss: 0.1397 - acc: 0.9463 - val_loss: 0.5008 - val_acc: 0.8664\n",
            "Epoch 27/100\n",
            "151/151 [==============================] - 9s 62ms/step - loss: 0.1331 - acc: 0.9511 - val_loss: 0.4944 - val_acc: 0.8748\n",
            "Epoch 28/100\n",
            "151/151 [==============================] - 9s 62ms/step - loss: 0.1251 - acc: 0.9545 - val_loss: 0.5396 - val_acc: 0.8604\n",
            "Epoch 29/100\n",
            "151/151 [==============================] - 9s 62ms/step - loss: 0.1356 - acc: 0.9513 - val_loss: 0.5886 - val_acc: 0.8446\n",
            "Epoch 30/100\n",
            "151/151 [==============================] - 10s 63ms/step - loss: 0.1157 - acc: 0.9578 - val_loss: 0.5608 - val_acc: 0.8581\n",
            "Epoch 31/100\n",
            "151/151 [==============================] - 9s 63ms/step - loss: 0.1162 - acc: 0.9566 - val_loss: 0.5399 - val_acc: 0.8639\n",
            "Epoch 32/100\n",
            "151/151 [==============================] - 9s 62ms/step - loss: 0.1145 - acc: 0.9580 - val_loss: 0.5553 - val_acc: 0.8655\n",
            "Epoch 33/100\n",
            "151/151 [==============================] - 9s 61ms/step - loss: 0.1074 - acc: 0.9597 - val_loss: 0.5296 - val_acc: 0.8680\n",
            "Epoch 34/100\n",
            "151/151 [==============================] - 9s 61ms/step - loss: 0.2748 - acc: 0.9073 - val_loss: 0.5483 - val_acc: 0.8664\n",
            "Epoch 35/100\n",
            "151/151 [==============================] - 9s 62ms/step - loss: 0.1115 - acc: 0.9583 - val_loss: 0.5852 - val_acc: 0.8561\n",
            "Epoch 36/100\n",
            "151/151 [==============================] - 9s 62ms/step - loss: 0.1640 - acc: 0.9457 - val_loss: 0.6036 - val_acc: 0.8513\n",
            "Epoch 37/100\n",
            "151/151 [==============================] - 9s 62ms/step - loss: 0.1113 - acc: 0.9598 - val_loss: 0.5964 - val_acc: 0.8510\n",
            "Epoch 38/100\n",
            "151/151 [==============================] - 9s 62ms/step - loss: 0.1010 - acc: 0.9624 - val_loss: 0.6646 - val_acc: 0.8417\n",
            "Epoch 39/100\n",
            "151/151 [==============================] - 9s 62ms/step - loss: 0.1005 - acc: 0.9628 - val_loss: 0.6125 - val_acc: 0.8544\n",
            "Epoch 40/100\n",
            "151/151 [==============================] - 9s 62ms/step - loss: 0.0968 - acc: 0.9639 - val_loss: 0.6249 - val_acc: 0.8510\n",
            "Epoch 41/100\n",
            "151/151 [==============================] - 9s 62ms/step - loss: 0.0957 - acc: 0.9642 - val_loss: 0.6376 - val_acc: 0.8508\n",
            "Epoch 42/100\n",
            "151/151 [==============================] - 9s 62ms/step - loss: 0.0942 - acc: 0.9649 - val_loss: 0.6403 - val_acc: 0.8551\n",
            "Epoch 43/100\n",
            "151/151 [==============================] - 9s 62ms/step - loss: 0.0930 - acc: 0.9654 - val_loss: 0.6630 - val_acc: 0.8512\n",
            "Epoch 44/100\n",
            "151/151 [==============================] - 9s 62ms/step - loss: 0.0925 - acc: 0.9659 - val_loss: 0.6682 - val_acc: 0.8473\n",
            "Epoch 45/100\n",
            "151/151 [==============================] - 9s 62ms/step - loss: 0.0857 - acc: 0.9684 - val_loss: 0.6007 - val_acc: 0.8664\n",
            "Epoch 46/100\n",
            "151/151 [==============================] - 9s 62ms/step - loss: 0.0877 - acc: 0.9676 - val_loss: 0.6664 - val_acc: 0.8482\n",
            "Epoch 47/100\n",
            "151/151 [==============================] - 9s 62ms/step - loss: 0.0872 - acc: 0.9679 - val_loss: 0.6243 - val_acc: 0.8606\n",
            "Epoch 48/100\n",
            "151/151 [==============================] - 9s 61ms/step - loss: 0.0852 - acc: 0.9684 - val_loss: 0.6756 - val_acc: 0.8510\n",
            "Epoch 49/100\n",
            "151/151 [==============================] - 9s 62ms/step - loss: 0.0853 - acc: 0.9686 - val_loss: 0.6454 - val_acc: 0.8588\n",
            "Epoch 50/100\n",
            "151/151 [==============================] - 9s 62ms/step - loss: 0.0861 - acc: 0.9682 - val_loss: 0.6667 - val_acc: 0.8628\n",
            "Epoch 51/100\n",
            "151/151 [==============================] - 9s 62ms/step - loss: 0.0824 - acc: 0.9688 - val_loss: 0.6481 - val_acc: 0.8588\n",
            "Epoch 52/100\n",
            "151/151 [==============================] - 9s 62ms/step - loss: 0.0856 - acc: 0.9683 - val_loss: 0.6410 - val_acc: 0.8673\n",
            "Epoch 53/100\n",
            "151/151 [==============================] - 9s 62ms/step - loss: 0.0808 - acc: 0.9697 - val_loss: 0.6712 - val_acc: 0.8571\n",
            "Epoch 54/100\n",
            "151/151 [==============================] - 9s 62ms/step - loss: 0.0787 - acc: 0.9706 - val_loss: 0.6639 - val_acc: 0.8597\n",
            "Epoch 55/100\n",
            "151/151 [==============================] - 9s 62ms/step - loss: 0.0785 - acc: 0.9707 - val_loss: 0.6513 - val_acc: 0.8581\n",
            "Epoch 56/100\n",
            "151/151 [==============================] - 9s 62ms/step - loss: 0.0791 - acc: 0.9705 - val_loss: 0.7107 - val_acc: 0.8515\n",
            "Epoch 57/100\n",
            "151/151 [==============================] - 9s 62ms/step - loss: 0.0812 - acc: 0.9694 - val_loss: 0.6842 - val_acc: 0.8584\n",
            "Epoch 58/100\n",
            "151/151 [==============================] - 9s 61ms/step - loss: 0.0791 - acc: 0.9713 - val_loss: 0.7025 - val_acc: 0.8562\n",
            "Epoch 59/100\n",
            "151/151 [==============================] - 9s 62ms/step - loss: 0.1953 - acc: 0.9382 - val_loss: 0.6774 - val_acc: 0.8544\n",
            "Epoch 60/100\n",
            "151/151 [==============================] - 9s 62ms/step - loss: 0.1446 - acc: 0.9490 - val_loss: 0.6451 - val_acc: 0.8637\n",
            "Epoch 61/100\n",
            "151/151 [==============================] - 9s 62ms/step - loss: 0.1369 - acc: 0.9511 - val_loss: 0.6595 - val_acc: 0.8482\n",
            "Epoch 62/100\n",
            "151/151 [==============================] - 9s 62ms/step - loss: 0.1553 - acc: 0.9455 - val_loss: 0.6267 - val_acc: 0.8669\n",
            "Epoch 63/100\n",
            "151/151 [==============================] - 9s 63ms/step - loss: 0.1259 - acc: 0.9549 - val_loss: 0.6305 - val_acc: 0.8628\n",
            "Epoch 64/100\n",
            "151/151 [==============================] - 9s 62ms/step - loss: 0.0901 - acc: 0.9673 - val_loss: 0.6640 - val_acc: 0.8559\n",
            "Epoch 65/100\n",
            "151/151 [==============================] - 9s 62ms/step - loss: 0.0814 - acc: 0.9699 - val_loss: 0.6562 - val_acc: 0.8651\n",
            "Epoch 66/100\n",
            "151/151 [==============================] - 9s 62ms/step - loss: 0.0822 - acc: 0.9701 - val_loss: 0.6521 - val_acc: 0.8630\n",
            "Epoch 67/100\n",
            "151/151 [==============================] - 9s 62ms/step - loss: 0.0777 - acc: 0.9705 - val_loss: 0.7063 - val_acc: 0.8522\n",
            "Epoch 68/100\n",
            "151/151 [==============================] - 9s 61ms/step - loss: 0.0780 - acc: 0.9719 - val_loss: 0.6199 - val_acc: 0.8729\n",
            "Epoch 69/100\n",
            "151/151 [==============================] - 9s 62ms/step - loss: 0.0787 - acc: 0.9710 - val_loss: 0.6472 - val_acc: 0.8671\n",
            "Epoch 70/100\n",
            "151/151 [==============================] - 9s 62ms/step - loss: 0.0733 - acc: 0.9736 - val_loss: 0.6848 - val_acc: 0.8597\n",
            "Epoch 71/100\n",
            "151/151 [==============================] - 9s 62ms/step - loss: 0.0730 - acc: 0.9733 - val_loss: 0.6816 - val_acc: 0.8595\n",
            "Epoch 72/100\n",
            "151/151 [==============================] - 9s 63ms/step - loss: 0.0735 - acc: 0.9732 - val_loss: 0.6799 - val_acc: 0.8604\n",
            "Epoch 73/100\n",
            "151/151 [==============================] - 9s 62ms/step - loss: 0.0721 - acc: 0.9745 - val_loss: 0.7233 - val_acc: 0.8499\n",
            "Epoch 74/100\n",
            "151/151 [==============================] - 9s 62ms/step - loss: 0.0763 - acc: 0.9719 - val_loss: 0.6868 - val_acc: 0.8599\n",
            "Epoch 75/100\n",
            "151/151 [==============================] - 9s 62ms/step - loss: 0.0740 - acc: 0.9723 - val_loss: 0.6608 - val_acc: 0.8651\n",
            "Epoch 76/100\n",
            "151/151 [==============================] - 9s 62ms/step - loss: 0.0703 - acc: 0.9743 - val_loss: 0.7057 - val_acc: 0.8542\n",
            "Epoch 77/100\n",
            "151/151 [==============================] - 9s 62ms/step - loss: 0.0730 - acc: 0.9734 - val_loss: 0.6778 - val_acc: 0.8664\n",
            "Epoch 78/100\n",
            "151/151 [==============================] - 9s 62ms/step - loss: 0.0713 - acc: 0.9739 - val_loss: 0.7034 - val_acc: 0.8613\n",
            "Epoch 79/100\n",
            "151/151 [==============================] - 9s 62ms/step - loss: 0.0698 - acc: 0.9744 - val_loss: 0.7229 - val_acc: 0.8575\n",
            "Epoch 80/100\n",
            "151/151 [==============================] - 9s 62ms/step - loss: 0.0700 - acc: 0.9750 - val_loss: 0.6601 - val_acc: 0.8697\n",
            "Epoch 81/100\n",
            "151/151 [==============================] - 9s 62ms/step - loss: 0.0688 - acc: 0.9745 - val_loss: 0.7116 - val_acc: 0.8593\n",
            "Epoch 82/100\n",
            "151/151 [==============================] - 9s 62ms/step - loss: 0.0687 - acc: 0.9753 - val_loss: 0.7125 - val_acc: 0.8577\n",
            "Epoch 83/100\n",
            "151/151 [==============================] - 9s 62ms/step - loss: 0.0685 - acc: 0.9747 - val_loss: 0.6916 - val_acc: 0.8639\n",
            "Epoch 84/100\n",
            "151/151 [==============================] - 9s 62ms/step - loss: 0.0687 - acc: 0.9750 - val_loss: 0.7183 - val_acc: 0.8573\n",
            "Epoch 85/100\n",
            "151/151 [==============================] - 9s 62ms/step - loss: 0.0710 - acc: 0.9743 - val_loss: 0.7184 - val_acc: 0.8626\n",
            "Epoch 86/100\n",
            "151/151 [==============================] - 9s 62ms/step - loss: 0.0677 - acc: 0.9755 - val_loss: 0.7185 - val_acc: 0.8588\n",
            "Epoch 87/100\n",
            "151/151 [==============================] - 9s 62ms/step - loss: 0.0668 - acc: 0.9754 - val_loss: 0.7375 - val_acc: 0.8551\n",
            "Epoch 88/100\n",
            "151/151 [==============================] - 9s 62ms/step - loss: 0.0715 - acc: 0.9738 - val_loss: 0.7404 - val_acc: 0.8542\n",
            "Epoch 89/100\n",
            "151/151 [==============================] - 9s 62ms/step - loss: 0.0687 - acc: 0.9741 - val_loss: 0.7175 - val_acc: 0.8595\n",
            "Epoch 90/100\n",
            "151/151 [==============================] - 9s 62ms/step - loss: 0.0720 - acc: 0.9741 - val_loss: 0.7003 - val_acc: 0.8571\n",
            "Epoch 91/100\n",
            "151/151 [==============================] - 9s 63ms/step - loss: 0.0684 - acc: 0.9750 - val_loss: 0.7315 - val_acc: 0.8595\n",
            "Epoch 92/100\n",
            "151/151 [==============================] - 9s 62ms/step - loss: 0.0658 - acc: 0.9751 - val_loss: 0.7514 - val_acc: 0.8488\n",
            "Epoch 93/100\n",
            "151/151 [==============================] - 9s 62ms/step - loss: 0.0679 - acc: 0.9744 - val_loss: 0.7078 - val_acc: 0.8613\n",
            "Epoch 94/100\n",
            "151/151 [==============================] - 9s 62ms/step - loss: 0.0644 - acc: 0.9761 - val_loss: 0.7003 - val_acc: 0.8620\n",
            "Epoch 95/100\n",
            "151/151 [==============================] - 9s 62ms/step - loss: 0.0674 - acc: 0.9748 - val_loss: 0.6960 - val_acc: 0.8653\n",
            "Epoch 96/100\n",
            "151/151 [==============================] - 9s 63ms/step - loss: 0.0644 - acc: 0.9758 - val_loss: 0.7588 - val_acc: 0.8515\n",
            "Epoch 97/100\n",
            "151/151 [==============================] - 10s 63ms/step - loss: 0.0678 - acc: 0.9750 - val_loss: 0.7715 - val_acc: 0.8495\n",
            "Epoch 98/100\n",
            "151/151 [==============================] - 9s 62ms/step - loss: 0.0680 - acc: 0.9747 - val_loss: 0.7560 - val_acc: 0.8566\n",
            "Epoch 99/100\n",
            "151/151 [==============================] - 9s 62ms/step - loss: 0.0668 - acc: 0.9758 - val_loss: 0.7188 - val_acc: 0.8604\n",
            "Epoch 100/100\n",
            "151/151 [==============================] - 9s 62ms/step - loss: 0.0629 - acc: 0.9764 - val_loss: 0.7502 - val_acc: 0.8595\n"
          ],
          "name": "stdout"
        }
      ]
    },
    {
      "cell_type": "code",
      "metadata": {
        "id": "FC_BrB7Kg8VO",
        "colab_type": "code",
        "colab": {}
      },
      "source": [
        "rcParams['figure.figsize'] = 8,6\n",
        "plt.plot(history.history['acc'])\n",
        "plt.ylabel('accuracy')\n",
        "plt.xlabel('epoch')\n",
        "plt.legend(['train'], loc='lower right')\n",
        "plt.show()"
      ],
      "execution_count": null,
      "outputs": []
    },
    {
      "cell_type": "code",
      "metadata": {
        "id": "id1jVTepidV9",
        "colab_type": "code",
        "colab": {}
      },
      "source": [
        "rcParams['figure.figsize'] = 8,6\n",
        "plt.plot(history.history['loss'])\n",
        "plt.ylabel('loss')\n",
        "plt.xlabel('epoch')\n",
        "plt.legend(['train'], loc='right')\n",
        "plt.show()"
      ],
      "execution_count": null,
      "outputs": []
    },
    {
      "cell_type": "code",
      "metadata": {
        "id": "mbR5Lkc1occ5",
        "colab_type": "code",
        "colab": {
          "base_uri": "https://localhost:8080/",
          "height": 406
        },
        "outputId": "0361a5ff-2827-405b-ecd1-38e1f4c71a7b"
      },
      "source": [
        "rcParams['figure.figsize'] = 16, 6\n",
        "\n",
        "fig, (ax1, ax2) = plt.subplots(1, 2)\n",
        "ax1.plot(history.history['loss'])\n",
        "ax1.set(xlabel='epoch', ylabel='loss')\n",
        "ax1.legend(['train'], loc='right')\n",
        "ax2.plot(history.history['acc'])\n",
        "ax2.set(xlabel='epoch', ylabel='accuracy')\n",
        "ax2.legend(['train'], loc='lower right')"
      ],
      "execution_count": null,
      "outputs": [
        {
          "output_type": "execute_result",
          "data": {
            "text/plain": [
              "<matplotlib.legend.Legend at 0x7f7d805bfda0>"
            ]
          },
          "metadata": {
            "tags": []
          },
          "execution_count": 19
        },
        {
          "output_type": "display_data",
          "data": {
            "image/png": "[encoded data removed]",
            "text/plain": [
              "<Figure size 1152x432 with 2 Axes>"
            ]
          },
          "metadata": {
            "tags": [],
            "needs_background": "light"
          }
        }
      ]
    },
    {
      "cell_type": "code",
      "metadata": {
        "id": "pAWCqDkHPejB",
        "colab_type": "code",
        "colab": {
          "base_uri": "https://localhost:8080/",
          "height": 170
        },
        "outputId": "fc7ede80-9923-4b91-9a2d-a0d5cbc251e1"
      },
      "source": [
        "predictions = model.predict(dataTest, batch_size=BATCH_SIZE)\n",
        "accuracy, microPrecision, microRecall, microF1 = getMetrics(predictions, testLabels)"
      ],
      "execution_count": null,
      "outputs": [
        {
          "output_type": "stream",
          "text": [
            "True Positives per class :  [4146.  182.  173.  234.]\n",
            "False Positives per class :  [180. 184. 238. 172.]\n",
            "False Negatives per class :  [531. 102.  77.  64.]\n",
            "Class happy : Precision : 0.497, Recall : 0.641, F1 : 0.560\n",
            "Class sad : Precision : 0.421, Recall : 0.692, F1 : 0.523\n",
            "Class angry : Precision : 0.576, Recall : 0.785, F1 : 0.665\n",
            "Ignoring the Others class, Macro Precision : 0.4982, Macro Recall : 0.7060, Macro F1 : 0.5842\n",
            "Ignoring the Others class, Micro TP : 589, FP : 594, FN : 243\n",
            "Accuracy : 0.8595, Micro Precision : 0.4979, Micro Recall : 0.7079, Micro F1 : 0.5846\n"
          ],
          "name": "stdout"
        }
      ]
    },
    {
      "cell_type": "markdown",
      "metadata": {
        "id": "YlFC-t55TVCj",
        "colab_type": "text"
      },
      "source": [
        "### Głęboki LSTM"
      ]
    },
    {
      "cell_type": "code",
      "metadata": {
        "id": "nuMS6ZemRqfu",
        "colab_type": "code",
        "colab": {
          "base_uri": "https://localhost:8080/",
          "height": 391
        },
        "outputId": "ed0e3776-7c06-46af-c12b-219a8f70dc8a"
      },
      "source": [
        "modelDeep = getDeepLSTM(embeddingMatrix)\n",
        "\n",
        "modelDeep.summary()"
      ],
      "execution_count": null,
      "outputs": [
        {
          "output_type": "stream",
          "text": [
            "Model: \"Głęboka architektura LSTM\"\n",
            "_________________________________________________________________\n",
            "Layer (type)                 Output Shape              Param #   \n",
            "=================================================================\n",
            "embedding_1 (Embedding)      (None, 200, 100)          1683200   \n",
            "_________________________________________________________________\n",
            "bidirectional (Bidirectional (None, 200, 240)          212160    \n",
            "_________________________________________________________________\n",
            "bidirectional_1 (Bidirection (None, 200, 240)          346560    \n",
            "_________________________________________________________________\n",
            "bidirectional_2 (Bidirection (None, 240)               346560    \n",
            "_________________________________________________________________\n",
            "dense_1 (Dense)              (None, 120)               28920     \n",
            "_________________________________________________________________\n",
            "dense_2 (Dense)              (None, 64)                7744      \n",
            "_________________________________________________________________\n",
            "dense_3 (Dense)              (None, 4)                 260       \n",
            "=================================================================\n",
            "Total params: 2,625,404\n",
            "Trainable params: 942,204\n",
            "Non-trainable params: 1,683,200\n",
            "_________________________________________________________________\n"
          ],
          "name": "stdout"
        }
      ]
    },
    {
      "cell_type": "code",
      "metadata": {
        "id": "HBdnW3H4H9c-",
        "colab_type": "code",
        "colab": {
          "base_uri": "https://localhost:8080/",
          "height": 582
        },
        "outputId": "d28ff2ca-1978-4110-a198-24d61d075659"
      },
      "source": [
        "tf.keras.utils.plot_model(modelDeep, show_shapes=True, dpi=64)"
      ],
      "execution_count": null,
      "outputs": [
        {
          "output_type": "execute_result",
          "data": {
            "image/png": "[encoded data removed]",
            "text/plain": [
              "<IPython.core.display.Image object>"
            ]
          },
          "metadata": {
            "tags": []
          },
          "execution_count": 27
        }
      ]
    },
    {
      "cell_type": "code",
      "metadata": {
        "id": "J2Yi_3jDLFYJ",
        "colab_type": "code",
        "colab": {
          "base_uri": "https://localhost:8080/",
          "height": 1000
        },
        "outputId": "3f8c19c5-8c9f-4e3e-f069-cb1538f43e5c"
      },
      "source": [
        "historyDeep = modelDeep.fit(dataTrain, trainLabels, validation_data=(dataDev, devLabels), epochs=NUM_EPOCHS, batch_size=BATCH_SIZE)\n",
        "modelDeep.save(mainPath + 'EP%d_LR%de-5_LDim%d_BS%d_DEEP.h5' % (NUM_EPOCHS, int(LEARNING_RATE * (10 ** 5)), LSTM_DIM, BATCH_SIZE))"
      ],
      "execution_count": null,
      "outputs": [
        {
          "output_type": "stream",
          "text": [
            "Epoch 1/100\n",
            "151/151 [==============================] - 66s 437ms/step - loss: 1.0858 - acc: 0.5552 - val_loss: 0.4142 - val_acc: 0.8622\n",
            "Epoch 2/100\n",
            "151/151 [==============================] - 64s 423ms/step - loss: 0.6941 - acc: 0.7359 - val_loss: 0.4905 - val_acc: 0.8248\n",
            "Epoch 3/100\n",
            "151/151 [==============================] - 64s 425ms/step - loss: 0.5512 - acc: 0.7928 - val_loss: 0.4399 - val_acc: 0.8441\n",
            "Epoch 4/100\n",
            "151/151 [==============================] - 64s 424ms/step - loss: 0.4699 - acc: 0.8237 - val_loss: 0.4869 - val_acc: 0.8103\n",
            "Epoch 5/100\n",
            "151/151 [==============================] - 64s 422ms/step - loss: 0.4130 - acc: 0.8475 - val_loss: 0.4484 - val_acc: 0.8375\n",
            "Epoch 6/100\n",
            "151/151 [==============================] - 64s 424ms/step - loss: 0.3778 - acc: 0.8600 - val_loss: 0.3477 - val_acc: 0.8816\n",
            "Epoch 7/100\n",
            "151/151 [==============================] - 64s 424ms/step - loss: 0.3406 - acc: 0.8721 - val_loss: 0.3662 - val_acc: 0.8811\n",
            "Epoch 8/100\n",
            "151/151 [==============================] - 64s 424ms/step - loss: 0.3169 - acc: 0.8818 - val_loss: 0.3650 - val_acc: 0.8767\n",
            "Epoch 9/100\n",
            "151/151 [==============================] - 64s 424ms/step - loss: 0.2936 - acc: 0.8881 - val_loss: 0.3592 - val_acc: 0.8802\n",
            "Epoch 10/100\n",
            "151/151 [==============================] - 64s 424ms/step - loss: 0.2654 - acc: 0.8986 - val_loss: 0.4314 - val_acc: 0.8729\n",
            "Epoch 11/100\n",
            "151/151 [==============================] - 64s 423ms/step - loss: 0.2461 - acc: 0.9048 - val_loss: 0.4045 - val_acc: 0.8840\n",
            "Epoch 12/100\n",
            "151/151 [==============================] - 64s 422ms/step - loss: 0.2261 - acc: 0.9144 - val_loss: 0.5011 - val_acc: 0.8597\n",
            "Epoch 13/100\n",
            "151/151 [==============================] - 64s 423ms/step - loss: 0.2150 - acc: 0.9176 - val_loss: 0.5308 - val_acc: 0.8586\n",
            "Epoch 14/100\n",
            "151/151 [==============================] - 64s 422ms/step - loss: 0.1931 - acc: 0.9269 - val_loss: 0.4638 - val_acc: 0.8820\n",
            "Epoch 15/100\n",
            "151/151 [==============================] - 64s 423ms/step - loss: 0.1765 - acc: 0.9321 - val_loss: 0.5656 - val_acc: 0.8653\n",
            "Epoch 16/100\n",
            "151/151 [==============================] - 64s 423ms/step - loss: 0.1679 - acc: 0.9359 - val_loss: 0.5814 - val_acc: 0.8789\n",
            "Epoch 17/100\n",
            "151/151 [==============================] - 64s 422ms/step - loss: 0.1552 - acc: 0.9406 - val_loss: 0.6933 - val_acc: 0.8597\n",
            "Epoch 18/100\n",
            "151/151 [==============================] - 64s 423ms/step - loss: 0.1445 - acc: 0.9458 - val_loss: 0.5416 - val_acc: 0.8684\n",
            "Epoch 19/100\n",
            "151/151 [==============================] - 64s 422ms/step - loss: 0.1351 - acc: 0.9492 - val_loss: 0.7714 - val_acc: 0.8337\n",
            "Epoch 20/100\n",
            "151/151 [==============================] - 64s 423ms/step - loss: 0.1286 - acc: 0.9520 - val_loss: 0.7737 - val_acc: 0.8488\n",
            "Epoch 21/100\n",
            "151/151 [==============================] - 64s 422ms/step - loss: 0.1175 - acc: 0.9561 - val_loss: 0.7974 - val_acc: 0.8497\n",
            "Epoch 22/100\n",
            "151/151 [==============================] - 64s 423ms/step - loss: 0.1169 - acc: 0.9566 - val_loss: 0.6564 - val_acc: 0.8711\n",
            "Epoch 23/100\n",
            "151/151 [==============================] - 64s 423ms/step - loss: 0.1065 - acc: 0.9612 - val_loss: 0.9011 - val_acc: 0.8590\n",
            "Epoch 24/100\n",
            "151/151 [==============================] - 64s 423ms/step - loss: 0.0973 - acc: 0.9641 - val_loss: 0.7092 - val_acc: 0.8675\n",
            "Epoch 25/100\n",
            "151/151 [==============================] - 64s 423ms/step - loss: 0.0961 - acc: 0.9644 - val_loss: 0.7995 - val_acc: 0.8522\n",
            "Epoch 26/100\n",
            "151/151 [==============================] - 64s 424ms/step - loss: 0.0935 - acc: 0.9658 - val_loss: 0.8824 - val_acc: 0.8428\n",
            "Epoch 27/100\n",
            "151/151 [==============================] - 64s 424ms/step - loss: 0.0888 - acc: 0.9687 - val_loss: 0.8642 - val_acc: 0.8622\n",
            "Epoch 28/100\n",
            "151/151 [==============================] - 64s 424ms/step - loss: 0.0833 - acc: 0.9705 - val_loss: 1.1190 - val_acc: 0.8361\n",
            "Epoch 29/100\n",
            "151/151 [==============================] - 64s 423ms/step - loss: 0.0794 - acc: 0.9713 - val_loss: 1.0151 - val_acc: 0.8648\n",
            "Epoch 30/100\n",
            "151/151 [==============================] - 64s 424ms/step - loss: 0.0764 - acc: 0.9726 - val_loss: 1.1552 - val_acc: 0.8671\n",
            "Epoch 31/100\n",
            "151/151 [==============================] - 64s 423ms/step - loss: 0.0745 - acc: 0.9732 - val_loss: 0.9788 - val_acc: 0.8689\n",
            "Epoch 32/100\n",
            "151/151 [==============================] - 64s 423ms/step - loss: 0.0984 - acc: 0.9648 - val_loss: 1.1892 - val_acc: 0.8266\n",
            "Epoch 33/100\n",
            "151/151 [==============================] - 64s 423ms/step - loss: 0.0731 - acc: 0.9748 - val_loss: 1.0846 - val_acc: 0.8472\n",
            "Epoch 34/100\n",
            "151/151 [==============================] - 64s 423ms/step - loss: 0.0689 - acc: 0.9767 - val_loss: 1.1087 - val_acc: 0.8533\n",
            "Epoch 35/100\n",
            "151/151 [==============================] - 64s 423ms/step - loss: 0.0707 - acc: 0.9758 - val_loss: 1.1813 - val_acc: 0.8439\n",
            "Epoch 36/100\n",
            "151/151 [==============================] - 64s 423ms/step - loss: 0.0669 - acc: 0.9763 - val_loss: 0.9419 - val_acc: 0.8630\n",
            "Epoch 37/100\n",
            "151/151 [==============================] - 64s 422ms/step - loss: 0.0651 - acc: 0.9783 - val_loss: 1.1886 - val_acc: 0.8553\n",
            "Epoch 38/100\n",
            "151/151 [==============================] - 64s 423ms/step - loss: 0.0668 - acc: 0.9760 - val_loss: 1.0619 - val_acc: 0.8524\n",
            "Epoch 39/100\n",
            "151/151 [==============================] - 64s 424ms/step - loss: 0.0665 - acc: 0.9779 - val_loss: 1.1751 - val_acc: 0.8717\n",
            "Epoch 40/100\n",
            "151/151 [==============================] - 64s 424ms/step - loss: 0.0602 - acc: 0.9791 - val_loss: 1.4574 - val_acc: 0.8586\n",
            "Epoch 41/100\n",
            "151/151 [==============================] - 64s 423ms/step - loss: 0.0652 - acc: 0.9770 - val_loss: 1.1796 - val_acc: 0.8639\n",
            "Epoch 42/100\n",
            "151/151 [==============================] - 64s 422ms/step - loss: 0.0579 - acc: 0.9809 - val_loss: 1.6330 - val_acc: 0.8599\n",
            "Epoch 43/100\n",
            "151/151 [==============================] - 64s 422ms/step - loss: 0.0592 - acc: 0.9808 - val_loss: 1.4713 - val_acc: 0.8760\n",
            "Epoch 44/100\n",
            "151/151 [==============================] - 64s 422ms/step - loss: 0.0577 - acc: 0.9808 - val_loss: 1.3421 - val_acc: 0.8700\n",
            "Epoch 45/100\n",
            "151/151 [==============================] - 64s 422ms/step - loss: 0.0567 - acc: 0.9809 - val_loss: 1.7834 - val_acc: 0.8611\n",
            "Epoch 46/100\n",
            "151/151 [==============================] - 64s 423ms/step - loss: 0.0605 - acc: 0.9803 - val_loss: 2.0496 - val_acc: 0.8479\n",
            "Epoch 47/100\n",
            "151/151 [==============================] - 64s 422ms/step - loss: 0.0543 - acc: 0.9811 - val_loss: 1.7372 - val_acc: 0.8395\n",
            "Epoch 48/100\n",
            "151/151 [==============================] - 64s 423ms/step - loss: 0.0580 - acc: 0.9814 - val_loss: 1.7140 - val_acc: 0.8459\n",
            "Epoch 49/100\n",
            "151/151 [==============================] - 64s 423ms/step - loss: 0.0586 - acc: 0.9811 - val_loss: 1.5746 - val_acc: 0.8619\n",
            "Epoch 50/100\n",
            "151/151 [==============================] - 64s 423ms/step - loss: 0.0584 - acc: 0.9808 - val_loss: 1.4859 - val_acc: 0.8561\n",
            "Epoch 51/100\n",
            "151/151 [==============================] - 64s 423ms/step - loss: 0.0578 - acc: 0.9814 - val_loss: 1.6568 - val_acc: 0.8510\n",
            "Epoch 52/100\n",
            "151/151 [==============================] - 64s 423ms/step - loss: 0.0587 - acc: 0.9797 - val_loss: 2.0319 - val_acc: 0.8448\n",
            "Epoch 53/100\n",
            "151/151 [==============================] - 64s 423ms/step - loss: 0.0583 - acc: 0.9809 - val_loss: 1.9955 - val_acc: 0.8577\n",
            "Epoch 54/100\n",
            "151/151 [==============================] - 64s 423ms/step - loss: 0.0564 - acc: 0.9809 - val_loss: 1.8648 - val_acc: 0.8778\n",
            "Epoch 55/100\n",
            "151/151 [==============================] - 64s 422ms/step - loss: 0.0559 - acc: 0.9813 - val_loss: 1.7221 - val_acc: 0.8548\n",
            "Epoch 56/100\n",
            "151/151 [==============================] - 64s 422ms/step - loss: 0.0542 - acc: 0.9819 - val_loss: 1.9338 - val_acc: 0.8568\n",
            "Epoch 57/100\n",
            "151/151 [==============================] - 64s 422ms/step - loss: 0.0556 - acc: 0.9827 - val_loss: 1.7512 - val_acc: 0.8573\n",
            "Epoch 58/100\n",
            "151/151 [==============================] - 64s 422ms/step - loss: 0.0513 - acc: 0.9820 - val_loss: 1.9690 - val_acc: 0.8700\n",
            "Epoch 59/100\n",
            "151/151 [==============================] - 64s 422ms/step - loss: 0.0539 - acc: 0.9825 - val_loss: 1.7420 - val_acc: 0.8686\n",
            "Epoch 60/100\n",
            "151/151 [==============================] - 64s 422ms/step - loss: 0.0554 - acc: 0.9820 - val_loss: 1.6074 - val_acc: 0.8677\n",
            "Epoch 61/100\n",
            "151/151 [==============================] - 64s 422ms/step - loss: 0.0516 - acc: 0.9829 - val_loss: 1.8308 - val_acc: 0.8611\n",
            "Epoch 62/100\n",
            "151/151 [==============================] - 64s 423ms/step - loss: 0.0516 - acc: 0.9822 - val_loss: 1.9253 - val_acc: 0.8686\n",
            "Epoch 63/100\n",
            "151/151 [==============================] - 64s 422ms/step - loss: 0.0495 - acc: 0.9839 - val_loss: 1.7315 - val_acc: 0.8659\n",
            "Epoch 64/100\n",
            "151/151 [==============================] - 64s 422ms/step - loss: 0.0506 - acc: 0.9839 - val_loss: 1.9059 - val_acc: 0.8709\n",
            "Epoch 65/100\n",
            "151/151 [==============================] - 64s 422ms/step - loss: 0.0512 - acc: 0.9838 - val_loss: 2.0086 - val_acc: 0.8635\n",
            "Epoch 66/100\n",
            "151/151 [==============================] - 64s 422ms/step - loss: 0.0574 - acc: 0.9790 - val_loss: 2.2598 - val_acc: 0.8655\n",
            "Epoch 67/100\n",
            "151/151 [==============================] - 64s 421ms/step - loss: 0.0494 - acc: 0.9839 - val_loss: 1.9190 - val_acc: 0.8586\n",
            "Epoch 68/100\n",
            "151/151 [==============================] - 64s 421ms/step - loss: 0.0551 - acc: 0.9821 - val_loss: 1.8997 - val_acc: 0.8530\n",
            "Epoch 69/100\n",
            "151/151 [==============================] - 64s 421ms/step - loss: 0.0500 - acc: 0.9843 - val_loss: 1.6040 - val_acc: 0.8528\n",
            "Epoch 70/100\n",
            "151/151 [==============================] - 64s 423ms/step - loss: 0.0481 - acc: 0.9835 - val_loss: 1.8361 - val_acc: 0.8695\n",
            "Epoch 71/100\n",
            "151/151 [==============================] - 64s 423ms/step - loss: 0.0494 - acc: 0.9835 - val_loss: 2.1181 - val_acc: 0.8504\n",
            "Epoch 72/100\n",
            "151/151 [==============================] - 64s 421ms/step - loss: 0.0537 - acc: 0.9829 - val_loss: 2.0342 - val_acc: 0.8533\n",
            "Epoch 73/100\n",
            "151/151 [==============================] - 64s 421ms/step - loss: 0.0513 - acc: 0.9840 - val_loss: 1.8474 - val_acc: 0.8693\n",
            "Epoch 74/100\n",
            "151/151 [==============================] - 64s 422ms/step - loss: 0.0519 - acc: 0.9835 - val_loss: 2.0647 - val_acc: 0.8581\n",
            "Epoch 75/100\n",
            "151/151 [==============================] - 64s 422ms/step - loss: 0.0475 - acc: 0.9840 - val_loss: 2.5267 - val_acc: 0.8655\n",
            "Epoch 76/100\n",
            "151/151 [==============================] - 64s 422ms/step - loss: 0.0477 - acc: 0.9840 - val_loss: 2.2706 - val_acc: 0.8550\n",
            "Epoch 77/100\n",
            "151/151 [==============================] - 63s 420ms/step - loss: 0.0516 - acc: 0.9836 - val_loss: 1.7185 - val_acc: 0.8664\n",
            "Epoch 78/100\n",
            "151/151 [==============================] - 64s 421ms/step - loss: 0.0526 - acc: 0.9818 - val_loss: 2.0776 - val_acc: 0.8640\n",
            "Epoch 79/100\n",
            "151/151 [==============================] - 64s 422ms/step - loss: 0.0504 - acc: 0.9839 - val_loss: 2.1486 - val_acc: 0.8673\n",
            "Epoch 80/100\n",
            "151/151 [==============================] - 64s 421ms/step - loss: 0.0562 - acc: 0.9817 - val_loss: 2.2461 - val_acc: 0.8501\n",
            "Epoch 81/100\n",
            "151/151 [==============================] - 64s 421ms/step - loss: 0.0523 - acc: 0.9839 - val_loss: 2.0460 - val_acc: 0.8735\n",
            "Epoch 82/100\n",
            "151/151 [==============================] - 64s 422ms/step - loss: 0.0530 - acc: 0.9837 - val_loss: 1.8589 - val_acc: 0.8717\n",
            "Epoch 83/100\n",
            "151/151 [==============================] - 64s 421ms/step - loss: 0.0525 - acc: 0.9834 - val_loss: 1.9196 - val_acc: 0.8708\n",
            "Epoch 84/100\n",
            "151/151 [==============================] - 64s 422ms/step - loss: 0.0471 - acc: 0.9844 - val_loss: 2.1969 - val_acc: 0.8602\n",
            "Epoch 85/100\n",
            "151/151 [==============================] - 64s 421ms/step - loss: 0.0471 - acc: 0.9840 - val_loss: 2.2068 - val_acc: 0.8640\n",
            "Epoch 86/100\n",
            "151/151 [==============================] - 64s 421ms/step - loss: 0.0532 - acc: 0.9834 - val_loss: 1.8193 - val_acc: 0.8709\n",
            "Epoch 87/100\n",
            "151/151 [==============================] - 64s 422ms/step - loss: 0.0485 - acc: 0.9857 - val_loss: 2.0285 - val_acc: 0.8688\n",
            "Epoch 88/100\n",
            "151/151 [==============================] - 64s 422ms/step - loss: 0.0549 - acc: 0.9846 - val_loss: 1.7228 - val_acc: 0.8575\n",
            "Epoch 89/100\n",
            "151/151 [==============================] - 64s 422ms/step - loss: 0.0500 - acc: 0.9821 - val_loss: 1.6546 - val_acc: 0.8755\n",
            "Epoch 90/100\n",
            "151/151 [==============================] - 64s 422ms/step - loss: 0.0776 - acc: 0.9749 - val_loss: 1.8837 - val_acc: 0.8628\n",
            "Epoch 91/100\n",
            "151/151 [==============================] - 64s 423ms/step - loss: 0.0654 - acc: 0.9787 - val_loss: 2.1599 - val_acc: 0.8764\n",
            "Epoch 92/100\n",
            "151/151 [==============================] - 64s 422ms/step - loss: 0.0545 - acc: 0.9821 - val_loss: 2.3493 - val_acc: 0.8504\n",
            "Epoch 93/100\n",
            "151/151 [==============================] - 64s 422ms/step - loss: 0.0539 - acc: 0.9822 - val_loss: 2.5858 - val_acc: 0.8566\n",
            "Epoch 94/100\n",
            "151/151 [==============================] - 64s 423ms/step - loss: 0.0538 - acc: 0.9817 - val_loss: 2.1438 - val_acc: 0.8704\n",
            "Epoch 95/100\n",
            "151/151 [==============================] - 64s 422ms/step - loss: 0.0533 - acc: 0.9822 - val_loss: 2.0823 - val_acc: 0.8691\n",
            "Epoch 96/100\n",
            "151/151 [==============================] - 64s 422ms/step - loss: 0.0544 - acc: 0.9839 - val_loss: 2.1545 - val_acc: 0.8611\n",
            "Epoch 97/100\n",
            "151/151 [==============================] - 64s 422ms/step - loss: 0.0482 - acc: 0.9848 - val_loss: 2.6901 - val_acc: 0.8557\n",
            "Epoch 98/100\n",
            "151/151 [==============================] - 64s 422ms/step - loss: 0.0570 - acc: 0.9834 - val_loss: 1.9092 - val_acc: 0.8502\n",
            "Epoch 99/100\n",
            "151/151 [==============================] - 64s 422ms/step - loss: 0.0493 - acc: 0.9840 - val_loss: 1.9103 - val_acc: 0.8533\n",
            "Epoch 100/100\n",
            "151/151 [==============================] - 64s 422ms/step - loss: 0.0526 - acc: 0.9835 - val_loss: 2.1798 - val_acc: 0.8649\n"
          ],
          "name": "stdout"
        }
      ]
    },
    {
      "cell_type": "code",
      "metadata": {
        "id": "WbsO6tjiRrso",
        "colab_type": "code",
        "colab": {
          "base_uri": "https://localhost:8080/",
          "height": 405
        },
        "outputId": "aa3b2b3e-ba9e-41f1-dec4-ecc2ee85b47c"
      },
      "source": [
        "rcParams['figure.figsize'] = 16, 6\n",
        "\n",
        "fig, (ax1, ax2) = plt.subplots(1, 2)\n",
        "ax1.plot(history.history['loss'])\n",
        "ax1.plot(historyDeep.history['loss'])\n",
        "ax1.set(xlabel='epoch', ylabel='loss')\n",
        "ax1.legend(['LSTM_one', 'LSTM_deep'], loc='right')\n",
        "ax2.plot(history.history['acc'])\n",
        "ax2.plot(historyDeep.history['acc'])\n",
        "ax2.set(xlabel='epoch', ylabel='accuracy')\n",
        "ax2.legend(['LSTM_one', 'LSTM_deep'], loc='right')"
      ],
      "execution_count": null,
      "outputs": [
        {
          "output_type": "execute_result",
          "data": {
            "text/plain": [
              "<matplotlib.legend.Legend at 0x7f7d32cc4f60>"
            ]
          },
          "metadata": {
            "tags": []
          },
          "execution_count": 25
        },
        {
          "output_type": "display_data",
          "data": {
            "image/png": "[encoded data removed]",
            "text/plain": [
              "<Figure size 1152x432 with 2 Axes>"
            ]
          },
          "metadata": {
            "tags": [],
            "needs_background": "light"
          }
        }
      ]
    },
    {
      "cell_type": "code",
      "metadata": {
        "id": "c8ePC6nnR_lc",
        "colab_type": "code",
        "colab": {
          "base_uri": "https://localhost:8080/",
          "height": 170
        },
        "outputId": "18198c63-ebed-465c-b50a-2e0b2de0fc03"
      },
      "source": [
        "predictionsDeep = modelDeep.predict(dataTest, batch_size=BATCH_SIZE)\n",
        "accuracyDeep, microPrecisionDeep, microRecallDeep, microF1Deep = getMetrics(predictionsDeep, testLabels)"
      ],
      "execution_count": null,
      "outputs": [
        {
          "output_type": "stream",
          "text": [
            "True Positives per class :  [4176.  174.  172.  243.]\n",
            "False Positives per class :  [181. 172. 198. 193.]\n",
            "False Negatives per class :  [501. 110.  78.  55.]\n",
            "Class happy : Precision : 0.503, Recall : 0.613, F1 : 0.552\n",
            "Class sad : Precision : 0.465, Recall : 0.688, F1 : 0.555\n",
            "Class angry : Precision : 0.557, Recall : 0.815, F1 : 0.662\n",
            "Ignoring the Others class, Macro Precision : 0.5084, Macro Recall : 0.7054, Macro F1 : 0.5909\n",
            "Ignoring the Others class, Micro TP : 589, FP : 563, FN : 243\n",
            "Accuracy : 0.8649, Micro Precision : 0.5113, Micro Recall : 0.7079, Micro F1 : 0.5937\n"
          ],
          "name": "stdout"
        }
      ]
    },
    {
      "cell_type": "markdown",
      "metadata": {
        "id": "Apc7MJ2tZd0k",
        "colab_type": "text"
      },
      "source": [
        "# Kod wykonawczy BERT"
      ]
    },
    {
      "cell_type": "markdown",
      "metadata": {
        "id": "Uu1Q256yjdja",
        "colab_type": "text"
      },
      "source": [
        "## Przygotowanie transformera"
      ]
    },
    {
      "cell_type": "code",
      "metadata": {
        "id": "moH_DO9MF63t",
        "colab_type": "code",
        "colab": {}
      },
      "source": [
        "from torch.utils.data import TensorDataset, random_split\n",
        "from torch.utils.data import DataLoader, RandomSampler, SequentialSampler"
      ],
      "execution_count": 5,
      "outputs": []
    },
    {
      "cell_type": "code",
      "metadata": {
        "id": "9098hMQJX5ut",
        "colab_type": "code",
        "colab": {
          "base_uri": "https://localhost:8080/",
          "height": 340
        },
        "outputId": "cd0ba00e-468c-498b-a9e7-a23e91f29315"
      },
      "source": [
        "!pip install transformers"
      ],
      "execution_count": 6,
      "outputs": [
        {
          "output_type": "stream",
          "text": [
            "Requirement already satisfied: transformers in /usr/local/lib/python3.6/dist-packages (3.1.0)\n",
            "Requirement already satisfied: filelock in /usr/local/lib/python3.6/dist-packages (from transformers) (3.0.12)\n",
            "Requirement already satisfied: dataclasses; python_version < \"3.7\" in /usr/local/lib/python3.6/dist-packages (from transformers) (0.7)\n",
            "Requirement already satisfied: requests in /usr/local/lib/python3.6/dist-packages (from transformers) (2.23.0)\n",
            "Requirement already satisfied: tokenizers==0.8.1.rc2 in /usr/local/lib/python3.6/dist-packages (from transformers) (0.8.1rc2)\n",
            "Requirement already satisfied: packaging in /usr/local/lib/python3.6/dist-packages (from transformers) (20.4)\n",
            "Requirement already satisfied: sentencepiece!=0.1.92 in /usr/local/lib/python3.6/dist-packages (from transformers) (0.1.91)\n",
            "Requirement already satisfied: sacremoses in /usr/local/lib/python3.6/dist-packages (from transformers) (0.0.43)\n",
            "Requirement already satisfied: tqdm>=4.27 in /usr/local/lib/python3.6/dist-packages (from transformers) (4.41.1)\n",
            "Requirement already satisfied: numpy in /usr/local/lib/python3.6/dist-packages (from transformers) (1.18.5)\n",
            "Requirement already satisfied: regex!=2019.12.17 in /usr/local/lib/python3.6/dist-packages (from transformers) (2019.12.20)\n",
            "Requirement already satisfied: idna<3,>=2.5 in /usr/local/lib/python3.6/dist-packages (from requests->transformers) (2.10)\n",
            "Requirement already satisfied: chardet<4,>=3.0.2 in /usr/local/lib/python3.6/dist-packages (from requests->transformers) (3.0.4)\n",
            "Requirement already satisfied: urllib3!=1.25.0,!=1.25.1,<1.26,>=1.21.1 in /usr/local/lib/python3.6/dist-packages (from requests->transformers) (1.24.3)\n",
            "Requirement already satisfied: certifi>=2017.4.17 in /usr/local/lib/python3.6/dist-packages (from requests->transformers) (2020.6.20)\n",
            "Requirement already satisfied: six in /usr/local/lib/python3.6/dist-packages (from packaging->transformers) (1.15.0)\n",
            "Requirement already satisfied: pyparsing>=2.0.2 in /usr/local/lib/python3.6/dist-packages (from packaging->transformers) (2.4.7)\n",
            "Requirement already satisfied: joblib in /usr/local/lib/python3.6/dist-packages (from sacremoses->transformers) (0.16.0)\n",
            "Requirement already satisfied: click in /usr/local/lib/python3.6/dist-packages (from sacremoses->transformers) (7.1.2)\n"
          ],
          "name": "stdout"
        }
      ]
    },
    {
      "cell_type": "code",
      "metadata": {
        "id": "mmkC5kb0Q7ut",
        "colab_type": "code",
        "colab": {
          "base_uri": "https://localhost:8080/",
          "height": 34
        },
        "outputId": "9fb3d73c-efcc-4883-b8cd-abeb3a9c0047"
      },
      "source": [
        "import tensorflow as tf\n",
        "\n",
        "# Get the GPU device name.\n",
        "device_name = tf.test.gpu_device_name()\n",
        "\n",
        "# The device name should look like the following:\n",
        "if device_name == '/device:GPU:0':\n",
        "    print('Found GPU at: {}'.format(device_name))\n",
        "else:\n",
        "    raise SystemError('GPU device not found')"
      ],
      "execution_count": 7,
      "outputs": [
        {
          "output_type": "stream",
          "text": [
            "Found GPU at: /device:GPU:0\n"
          ],
          "name": "stdout"
        }
      ]
    },
    {
      "cell_type": "code",
      "metadata": {
        "id": "1AMMYG1VQ_g5",
        "colab_type": "code",
        "colab": {
          "base_uri": "https://localhost:8080/",
          "height": 51
        },
        "outputId": "a91ddee0-49cd-477b-a2e1-f300a016d653"
      },
      "source": [
        "import torch\n",
        "\n",
        "# If there's a GPU available...\n",
        "if torch.cuda.is_available():    \n",
        "\n",
        "    # Tell PyTorch to use the GPU.    \n",
        "    device = torch.device(\"cuda\")\n",
        "\n",
        "    print('There are %d GPU(s) available.' % torch.cuda.device_count())\n",
        "\n",
        "    print('We will use the GPU:', torch.cuda.get_device_name(0))\n",
        "\n",
        "# If not...\n",
        "else:\n",
        "    print('No GPU available, using the CPU instead.')\n",
        "    device = torch.device(\"cpu\")"
      ],
      "execution_count": 8,
      "outputs": [
        {
          "output_type": "stream",
          "text": [
            "There are 1 GPU(s) available.\n",
            "We will use the GPU: Tesla P4\n"
          ],
          "name": "stdout"
        }
      ]
    },
    {
      "cell_type": "code",
      "metadata": {
        "id": "bPb_OprWaeRB",
        "colab_type": "code",
        "colab": {
          "base_uri": "https://localhost:8080/",
          "height": 34
        },
        "outputId": "654e4de8-650b-4bf4-c4b5-47bbe98cb366"
      },
      "source": [
        "from transformers import BertTokenizer\n",
        "\n",
        "# Load the BERT tokenizer.\n",
        "print('Loading BERT tokenizer...')\n",
        "bertTokenizer = BertTokenizer.from_pretrained('bert-base-uncased', do_lower_case=True)"
      ],
      "execution_count": 9,
      "outputs": [
        {
          "output_type": "stream",
          "text": [
            "Loading BERT tokenizer...\n"
          ],
          "name": "stdout"
        }
      ]
    },
    {
      "cell_type": "code",
      "metadata": {
        "id": "JX2r2TJDFgno",
        "colab_type": "code",
        "colab": {}
      },
      "source": [
        "bertTrainIndices, bertTrainTexts, bertTrainLabels = preprocessBertData(trainDataPath, mode=\"train\", eos=\" [SEP] \")\n",
        "bertDevIndices, bertDevTexts, bertDevLabels = preprocessBertData(devDataPath, mode=\"train\", eos=\" [SEP] \")\n",
        "bertTestIndices, bertTestTexts, bertTestLabels = preprocessBertData(testDataPath, mode=\"train\", eos=\" [SEP] \")"
      ],
      "execution_count": 17,
      "outputs": []
    },
    {
      "cell_type": "code",
      "metadata": {
        "id": "MchP2N3-FS42",
        "colab_type": "code",
        "colab": {
          "base_uri": "https://localhost:8080/",
          "height": 85
        },
        "outputId": "6ab1fe8b-2c87-4020-8ba0-57c0805234a4"
      },
      "source": [
        "print(' Original: ', bertTrainTexts[0])\n",
        "\n",
        "# Print the sentence split into tokens.\n",
        "print('Tokenized: ', bertTokenizer.tokenize(bertTrainTexts[0]))\n",
        "\n",
        "# Print the sentence mapped to token ids.\n",
        "print('Token IDs: ', bertTokenizer.convert_tokens_to_ids(bertTokenizer.tokenize(bertTrainTexts[0])))\n",
        "\n",
        "print('Encode: ', bertTokenizer.encode(bertTrainTexts[0]))"
      ],
      "execution_count": 18,
      "outputs": [
        {
          "output_type": "stream",
          "text": [
            " Original:  Don't worry I'm girl [SEP] hmm how do I know if you are [SEP] What's ur name ? \n",
            "Tokenized:  ['don', \"'\", 't', 'worry', 'i', \"'\", 'm', 'girl', '[SEP]', 'hmm', 'how', 'do', 'i', 'know', 'if', 'you', 'are', '[SEP]', 'what', \"'\", 's', 'ur', 'name', '?']\n",
            "Token IDs:  [2123, 1005, 1056, 4737, 1045, 1005, 1049, 2611, 102, 17012, 2129, 2079, 1045, 2113, 2065, 2017, 2024, 102, 2054, 1005, 1055, 24471, 2171, 1029]\n",
            "Encode:  [101, 2123, 1005, 1056, 4737, 1045, 1005, 1049, 2611, 102, 17012, 2129, 2079, 1045, 2113, 2065, 2017, 2024, 102, 2054, 1005, 1055, 24471, 2171, 1029, 102]\n"
          ],
          "name": "stdout"
        }
      ]
    },
    {
      "cell_type": "code",
      "metadata": {
        "id": "KnqDCu4EFsCK",
        "colab_type": "code",
        "colab": {
          "base_uri": "https://localhost:8080/",
          "height": 34
        },
        "outputId": "64b4c35a-41e3-4e8f-e33a-b784d4d245a7"
      },
      "source": [
        "# max_len = 0\n",
        "\n",
        "# # For every sentence...\n",
        "# for sent in bertTrainTexts:\n",
        "\n",
        "#     # Tokenize the text and add `[CLS]` and `[SEP]` tokens.\n",
        "#     input_ids = bertTokenizer.encode(sent, add_special_tokens=True)\n",
        "\n",
        "#     # Update the maximum sentence length.\n",
        "#     max_len = max(max_len, len(input_ids))\n",
        "\n",
        "# print('Max sentence length: ', max_len)"
      ],
      "execution_count": 15,
      "outputs": [
        {
          "output_type": "stream",
          "text": [
            "Max sentence length:  168\n"
          ],
          "name": "stdout"
        }
      ]
    },
    {
      "cell_type": "code",
      "metadata": {
        "id": "V4IMvh05jIh8",
        "colab_type": "code",
        "colab": {
          "base_uri": "https://localhost:8080/",
          "height": 513
        },
        "outputId": "ca6d5812-8300-449d-a883-e676240df23b"
      },
      "source": [
        "encoded_dict = bertTokenizer.encode_plus(\n",
        "                        bertTrainTexts[0],            # Sentence to encode.\n",
        "                        add_special_tokens = True,    # Add '[CLS]' and '[SEP]'\n",
        "                        max_length = 128,             # Pad & truncate all sentences.\n",
        "                        truncation=True,\n",
        "                        pad_to_max_length = True,\n",
        "                        return_attention_mask = True, # Construct attn. masks.\n",
        "                        return_tensors = 'pt',        # Return pytorch tensors.\n",
        "                   )\n",
        "\n",
        "print(bertTrainTexts[0])\n",
        "print(encoded_dict['input_ids'])\n",
        "print(encoded_dict['token_type_ids'])\n",
        "print(encoded_dict['attention_mask'])"
      ],
      "execution_count": 19,
      "outputs": [
        {
          "output_type": "stream",
          "text": [
            "Don't worry I'm girl [SEP] hmm how do I know if you are [SEP] What's ur name ? \n",
            "tensor([[  101,  2123,  1005,  1056,  4737,  1045,  1005,  1049,  2611,   102,\n",
            "         17012,  2129,  2079,  1045,  2113,  2065,  2017,  2024,   102,  2054,\n",
            "          1005,  1055, 24471,  2171,  1029,   102,     0,     0,     0,     0,\n",
            "             0,     0,     0,     0,     0,     0,     0,     0,     0,     0,\n",
            "             0,     0,     0,     0,     0,     0,     0,     0,     0,     0,\n",
            "             0,     0,     0,     0,     0,     0,     0,     0,     0,     0,\n",
            "             0,     0,     0,     0,     0,     0,     0,     0,     0,     0,\n",
            "             0,     0,     0,     0,     0,     0,     0,     0,     0,     0,\n",
            "             0,     0,     0,     0,     0,     0,     0,     0,     0,     0,\n",
            "             0,     0,     0,     0,     0,     0,     0,     0,     0,     0,\n",
            "             0,     0,     0,     0,     0,     0,     0,     0,     0,     0,\n",
            "             0,     0,     0,     0,     0,     0,     0,     0,     0,     0,\n",
            "             0,     0,     0,     0,     0,     0,     0,     0]])\n",
            "tensor([[0, 0, 0, 0, 0, 0, 0, 0, 0, 0, 0, 0, 0, 0, 0, 0, 0, 0, 0, 0, 0, 0, 0, 0,\n",
            "         0, 0, 0, 0, 0, 0, 0, 0, 0, 0, 0, 0, 0, 0, 0, 0, 0, 0, 0, 0, 0, 0, 0, 0,\n",
            "         0, 0, 0, 0, 0, 0, 0, 0, 0, 0, 0, 0, 0, 0, 0, 0, 0, 0, 0, 0, 0, 0, 0, 0,\n",
            "         0, 0, 0, 0, 0, 0, 0, 0, 0, 0, 0, 0, 0, 0, 0, 0, 0, 0, 0, 0, 0, 0, 0, 0,\n",
            "         0, 0, 0, 0, 0, 0, 0, 0, 0, 0, 0, 0, 0, 0, 0, 0, 0, 0, 0, 0, 0, 0, 0, 0,\n",
            "         0, 0, 0, 0, 0, 0, 0, 0]])\n",
            "tensor([[1, 1, 1, 1, 1, 1, 1, 1, 1, 1, 1, 1, 1, 1, 1, 1, 1, 1, 1, 1, 1, 1, 1, 1,\n",
            "         1, 1, 0, 0, 0, 0, 0, 0, 0, 0, 0, 0, 0, 0, 0, 0, 0, 0, 0, 0, 0, 0, 0, 0,\n",
            "         0, 0, 0, 0, 0, 0, 0, 0, 0, 0, 0, 0, 0, 0, 0, 0, 0, 0, 0, 0, 0, 0, 0, 0,\n",
            "         0, 0, 0, 0, 0, 0, 0, 0, 0, 0, 0, 0, 0, 0, 0, 0, 0, 0, 0, 0, 0, 0, 0, 0,\n",
            "         0, 0, 0, 0, 0, 0, 0, 0, 0, 0, 0, 0, 0, 0, 0, 0, 0, 0, 0, 0, 0, 0, 0, 0,\n",
            "         0, 0, 0, 0, 0, 0, 0, 0]])\n"
          ],
          "name": "stdout"
        },
        {
          "output_type": "stream",
          "text": [
            "/usr/local/lib/python3.6/dist-packages/transformers/tokenization_utils_base.py:1770: FutureWarning: The `pad_to_max_length` argument is deprecated and will be removed in a future version, use `padding=True` or `padding='longest'` to pad to the longest sequence in the batch, or use `padding='max_length'` to pad to a max length. In this case, you can give a specific length with `max_length` (e.g. `max_length=45`) or leave max_length to None to pad to the maximal input size of the model (e.g. 512 for Bert).\n",
            "  FutureWarning,\n"
          ],
          "name": "stderr"
        }
      ]
    },
    {
      "cell_type": "markdown",
      "metadata": {
        "id": "gbUgnzKkkgCH",
        "colab_type": "text"
      },
      "source": [
        "### Przetwarzanie danych Train"
      ]
    },
    {
      "cell_type": "code",
      "metadata": {
        "id": "3NlV1PAxKBv_",
        "colab_type": "code",
        "colab": {
          "base_uri": "https://localhost:8080/",
          "height": 71
        },
        "outputId": "a301ad5c-91d1-4a3d-a41c-3e200212198f"
      },
      "source": [
        "input_ids = []\n",
        "attention_masks = []\n",
        "\n",
        "# For every sentence...\n",
        "for sent in bertTrainTexts:\n",
        "    # `encode_plus` will:\n",
        "    #   (1) Tokenize the sentence.\n",
        "    #   (2) Prepend the `[CLS]` token to the start.\n",
        "    #   (3) Append the `[SEP]` token to the end.\n",
        "    #   (4) Map tokens to their IDs.\n",
        "    #   (5) Pad or truncate the sentence to `max_length`\n",
        "    #   (6) Create attention masks for [PAD] tokens.\n",
        "    encoded_dict = bertTokenizer.encode_plus(\n",
        "                        sent,                      # Sentence to encode.\n",
        "                        add_special_tokens = True, # Add '[CLS]' and '[SEP]'\n",
        "                        max_length = 128,           # Pad & truncate all sentences.\n",
        "                        truncation=True,\n",
        "                        pad_to_max_length = True,\n",
        "                        return_attention_mask = True,   # Construct attn. masks.\n",
        "                        return_tensors = 'pt',     # Return pytorch tensors.\n",
        "                   )\n",
        "    \n",
        "    # Add the encoded sentence to the list.    \n",
        "    input_ids.append(encoded_dict['input_ids'])\n",
        "    \n",
        "    # And its attention mask (simply differentiates padding from non-padding).\n",
        "    attention_masks.append(encoded_dict['attention_mask'])\n",
        "\n",
        "# Convert the lists into tensors.\n",
        "input_ids = torch.cat(input_ids, dim=0)\n",
        "attention_masks = torch.cat(attention_masks, dim=0)\n",
        "labels = torch.tensor(bertTrainLabels)"
      ],
      "execution_count": 20,
      "outputs": [
        {
          "output_type": "stream",
          "text": [
            "/usr/local/lib/python3.6/dist-packages/transformers/tokenization_utils_base.py:1770: FutureWarning: The `pad_to_max_length` argument is deprecated and will be removed in a future version, use `padding=True` or `padding='longest'` to pad to the longest sequence in the batch, or use `padding='max_length'` to pad to a max length. In this case, you can give a specific length with `max_length` (e.g. `max_length=45`) or leave max_length to None to pad to the maximal input size of the model (e.g. 512 for Bert).\n",
            "  FutureWarning,\n"
          ],
          "name": "stderr"
        }
      ]
    },
    {
      "cell_type": "markdown",
      "metadata": {
        "id": "Mn-xkeo2mONx",
        "colab_type": "text"
      },
      "source": [
        "### Przetwarzanie danych Test"
      ]
    },
    {
      "cell_type": "code",
      "metadata": {
        "id": "ByGyQ6k3Qwyi",
        "colab_type": "code",
        "colab": {
          "base_uri": "https://localhost:8080/",
          "height": 71
        },
        "outputId": "2040795b-d427-4f1e-ed47-23f9ca48e01e"
      },
      "source": [
        "input_ids_test = []\n",
        "attention_masks_test = []\n",
        "\n",
        "# For every sentence...\n",
        "for sent in bertTestTexts:\n",
        "    # `encode_plus` will:\n",
        "    #   (1) Tokenize the sentence.\n",
        "    #   (2) Prepend the `[CLS]` token to the start.\n",
        "    #   (3) Append the `[SEP]` token to the end.\n",
        "    #   (4) Map tokens to their IDs.\n",
        "    #   (5) Pad or truncate the sentence to `max_length`\n",
        "    #   (6) Create attention masks for [PAD] tokens.\n",
        "    encoded_dict = bertTokenizer.encode_plus(\n",
        "                        sent,                      # Sentence to encode.\n",
        "                        add_special_tokens = True, # Add '[CLS]' and '[SEP]'\n",
        "                        max_length = 128,           # Pad & truncate all sentences.\n",
        "                        truncation=True,\n",
        "                        pad_to_max_length = True,\n",
        "                        return_attention_mask = True,   # Construct attn. masks.\n",
        "                        return_tensors = 'pt',     # Return pytorch tensors.\n",
        "                   )\n",
        "    \n",
        "    # Add the encoded sentence to the list.    \n",
        "    input_ids_test.append(encoded_dict['input_ids'])\n",
        "    \n",
        "    # And its attention mask (simply differentiates padding from non-padding).\n",
        "    attention_masks_test.append(encoded_dict['attention_mask'])\n",
        "\n",
        "# Convert the lists into tensors.\n",
        "input_ids_test = torch.cat(input_ids_test, dim=0)\n",
        "attention_masks_test = torch.cat(attention_masks_test, dim=0)\n",
        "labels_test = torch.tensor(bertTestLabels)"
      ],
      "execution_count": 21,
      "outputs": [
        {
          "output_type": "stream",
          "text": [
            "/usr/local/lib/python3.6/dist-packages/transformers/tokenization_utils_base.py:1770: FutureWarning: The `pad_to_max_length` argument is deprecated and will be removed in a future version, use `padding=True` or `padding='longest'` to pad to the longest sequence in the batch, or use `padding='max_length'` to pad to a max length. In this case, you can give a specific length with `max_length` (e.g. `max_length=45`) or leave max_length to None to pad to the maximal input size of the model (e.g. 512 for Bert).\n",
            "  FutureWarning,\n"
          ],
          "name": "stderr"
        }
      ]
    },
    {
      "cell_type": "code",
      "metadata": {
        "id": "d54BAQafFyq4",
        "colab_type": "code",
        "colab": {}
      },
      "source": [
        "# Set the batch size.  \n",
        "batch_size = 32\n",
        "\n",
        "# Create the DataLoader.\n",
        "prediction_data = TensorDataset(input_ids_test, attention_masks_test, labels_test)\n",
        "prediction_sampler = SequentialSampler(prediction_data)\n",
        "prediction_dataloader = DataLoader(prediction_data, sampler=prediction_sampler, batch_size=batch_size)"
      ],
      "execution_count": 22,
      "outputs": []
    },
    {
      "cell_type": "code",
      "metadata": {
        "id": "oaPrsCVsNwW0",
        "colab_type": "code",
        "colab": {}
      },
      "source": [
        "# Combine the training inputs into a TensorDataset.\n",
        "dataset = TensorDataset(input_ids, attention_masks, labels)"
      ],
      "execution_count": 23,
      "outputs": []
    },
    {
      "cell_type": "code",
      "metadata": {
        "id": "87aeZ645Pu4r",
        "colab_type": "code",
        "colab": {
          "base_uri": "https://localhost:8080/",
          "height": 51
        },
        "outputId": "f8017c80-95de-4f3b-c357-808f0dcf83dd"
      },
      "source": [
        "# Create a 90-10 train-validation split.\n",
        "\n",
        "# Calculate the number of samples to include in each set.\n",
        "train_size = int(0.99 * len(dataset))\n",
        "val_size = len(dataset) - train_size\n",
        "\n",
        "# Divide the dataset by randomly selecting samples.\n",
        "train_dataset, val_dataset = random_split(dataset, [train_size, val_size])\n",
        "\n",
        "print('{:>5,} training samples'.format(train_size))\n",
        "print('{:>5,} validation samples'.format(val_size))"
      ],
      "execution_count": 24,
      "outputs": [
        {
          "output_type": "stream",
          "text": [
            "29,858 training samples\n",
            "  302 validation samples\n"
          ],
          "name": "stdout"
        }
      ]
    },
    {
      "cell_type": "code",
      "metadata": {
        "id": "bAxBm701N2W9",
        "colab_type": "code",
        "colab": {}
      },
      "source": [
        "# The DataLoader needs to know our batch size for training, so we specify it \n",
        "# here. For fine-tuning BERT on a specific task, the authors recommend a batch \n",
        "# size of 16 or 32.\n",
        "batch_size = 32\n",
        "\n",
        "# Create the DataLoaders for our training and validation sets.\n",
        "# We'll take training samples in random order. \n",
        "# train_dataloader = DataLoader(\n",
        "#             train_dataset,  # The training samples.\n",
        "#             sampler = RandomSampler(train_dataset), # Select batches randomly\n",
        "#             batch_size = batch_size # Trains with this batch size.\n",
        "#         )\n",
        "\n",
        "# For validation the order doesn't matter, so we'll just read them sequentially.\n",
        "validation_dataloader = DataLoader(\n",
        "            val_dataset, # The validation samples.\n",
        "            sampler = SequentialSampler(val_dataset), # Pull out batches sequentially.\n",
        "            batch_size = batch_size # Evaluate with this batch size.\n",
        "        )\n",
        "\n",
        "dataLoader = DataLoader(\n",
        "            dataset, # The validation samples.\n",
        "            sampler = SequentialSampler(dataset), # Pull out batches sequentially.\n",
        "            batch_size = batch_size # Evaluate with this batch size.\n",
        "        )"
      ],
      "execution_count": 25,
      "outputs": []
    },
    {
      "cell_type": "code",
      "metadata": {
        "id": "hkDwXedwPz22",
        "colab_type": "code",
        "colab": {
          "base_uri": "https://localhost:8080/",
          "height": 1000
        },
        "outputId": "983a9713-ecb6-4d24-d329-4d36434fda29"
      },
      "source": [
        "from transformers import BertForSequenceClassification, AdamW, BertConfig\n",
        "\n",
        "# Load BertForSequenceClassification, the pretrained BERT model with a single \n",
        "# linear classification layer on top. \n",
        "model = BertForSequenceClassification.from_pretrained(\n",
        "    \"bert-base-uncased\", # Use the 12-layer BERT model, with an uncased vocab.\n",
        "    num_labels = 4, # The number of output labels--2 for binary classification.\n",
        "                    # You can increase this for multi-class tasks.   \n",
        "    output_attentions = False, # Whether the model returns attentions weights.\n",
        "    output_hidden_states = False, # Whether the model returns all hidden-states.\n",
        ")\n",
        "\n",
        "# Tell pytorch to run this model on the GPU.\n",
        "model.cuda()"
      ],
      "execution_count": 26,
      "outputs": [
        {
          "output_type": "stream",
          "text": [
            "Some weights of the model checkpoint at bert-base-uncased were not used when initializing BertForSequenceClassification: ['cls.predictions.bias', 'cls.predictions.transform.dense.weight', 'cls.predictions.transform.dense.bias', 'cls.predictions.decoder.weight', 'cls.seq_relationship.weight', 'cls.seq_relationship.bias', 'cls.predictions.transform.LayerNorm.weight', 'cls.predictions.transform.LayerNorm.bias']\n",
            "- This IS expected if you are initializing BertForSequenceClassification from the checkpoint of a model trained on another task or with another architecture (e.g. initializing a BertForSequenceClassification model from a BertForPretraining model).\n",
            "- This IS NOT expected if you are initializing BertForSequenceClassification from the checkpoint of a model that you expect to be exactly identical (initializing a BertForSequenceClassification model from a BertForSequenceClassification model).\n",
            "Some weights of BertForSequenceClassification were not initialized from the model checkpoint at bert-base-uncased and are newly initialized: ['classifier.weight', 'classifier.bias']\n",
            "You should probably TRAIN this model on a down-stream task to be able to use it for predictions and inference.\n"
          ],
          "name": "stderr"
        },
        {
          "output_type": "execute_result",
          "data": {
            "text/plain": [
              "BertForSequenceClassification(\n",
              "  (bert): BertModel(\n",
              "    (embeddings): BertEmbeddings(\n",
              "      (word_embeddings): Embedding(30522, 768, padding_idx=0)\n",
              "      (position_embeddings): Embedding(512, 768)\n",
              "      (token_type_embeddings): Embedding(2, 768)\n",
              "      (LayerNorm): LayerNorm((768,), eps=1e-12, elementwise_affine=True)\n",
              "      (dropout): Dropout(p=0.1, inplace=False)\n",
              "    )\n",
              "    (encoder): BertEncoder(\n",
              "      (layer): ModuleList(\n",
              "        (0): BertLayer(\n",
              "          (attention): BertAttention(\n",
              "            (self): BertSelfAttention(\n",
              "              (query): Linear(in_features=768, out_features=768, bias=True)\n",
              "              (key): Linear(in_features=768, out_features=768, bias=True)\n",
              "              (value): Linear(in_features=768, out_features=768, bias=True)\n",
              "              (dropout): Dropout(p=0.1, inplace=False)\n",
              "            )\n",
              "            (output): BertSelfOutput(\n",
              "              (dense): Linear(in_features=768, out_features=768, bias=True)\n",
              "              (LayerNorm): LayerNorm((768,), eps=1e-12, elementwise_affine=True)\n",
              "              (dropout): Dropout(p=0.1, inplace=False)\n",
              "            )\n",
              "          )\n",
              "          (intermediate): BertIntermediate(\n",
              "            (dense): Linear(in_features=768, out_features=3072, bias=True)\n",
              "          )\n",
              "          (output): BertOutput(\n",
              "            (dense): Linear(in_features=3072, out_features=768, bias=True)\n",
              "            (LayerNorm): LayerNorm((768,), eps=1e-12, elementwise_affine=True)\n",
              "            (dropout): Dropout(p=0.1, inplace=False)\n",
              "          )\n",
              "        )\n",
              "        (1): BertLayer(\n",
              "          (attention): BertAttention(\n",
              "            (self): BertSelfAttention(\n",
              "              (query): Linear(in_features=768, out_features=768, bias=True)\n",
              "              (key): Linear(in_features=768, out_features=768, bias=True)\n",
              "              (value): Linear(in_features=768, out_features=768, bias=True)\n",
              "              (dropout): Dropout(p=0.1, inplace=False)\n",
              "            )\n",
              "            (output): BertSelfOutput(\n",
              "              (dense): Linear(in_features=768, out_features=768, bias=True)\n",
              "              (LayerNorm): LayerNorm((768,), eps=1e-12, elementwise_affine=True)\n",
              "              (dropout): Dropout(p=0.1, inplace=False)\n",
              "            )\n",
              "          )\n",
              "          (intermediate): BertIntermediate(\n",
              "            (dense): Linear(in_features=768, out_features=3072, bias=True)\n",
              "          )\n",
              "          (output): BertOutput(\n",
              "            (dense): Linear(in_features=3072, out_features=768, bias=True)\n",
              "            (LayerNorm): LayerNorm((768,), eps=1e-12, elementwise_affine=True)\n",
              "            (dropout): Dropout(p=0.1, inplace=False)\n",
              "          )\n",
              "        )\n",
              "        (2): BertLayer(\n",
              "          (attention): BertAttention(\n",
              "            (self): BertSelfAttention(\n",
              "              (query): Linear(in_features=768, out_features=768, bias=True)\n",
              "              (key): Linear(in_features=768, out_features=768, bias=True)\n",
              "              (value): Linear(in_features=768, out_features=768, bias=True)\n",
              "              (dropout): Dropout(p=0.1, inplace=False)\n",
              "            )\n",
              "            (output): BertSelfOutput(\n",
              "              (dense): Linear(in_features=768, out_features=768, bias=True)\n",
              "              (LayerNorm): LayerNorm((768,), eps=1e-12, elementwise_affine=True)\n",
              "              (dropout): Dropout(p=0.1, inplace=False)\n",
              "            )\n",
              "          )\n",
              "          (intermediate): BertIntermediate(\n",
              "            (dense): Linear(in_features=768, out_features=3072, bias=True)\n",
              "          )\n",
              "          (output): BertOutput(\n",
              "            (dense): Linear(in_features=3072, out_features=768, bias=True)\n",
              "            (LayerNorm): LayerNorm((768,), eps=1e-12, elementwise_affine=True)\n",
              "            (dropout): Dropout(p=0.1, inplace=False)\n",
              "          )\n",
              "        )\n",
              "        (3): BertLayer(\n",
              "          (attention): BertAttention(\n",
              "            (self): BertSelfAttention(\n",
              "              (query): Linear(in_features=768, out_features=768, bias=True)\n",
              "              (key): Linear(in_features=768, out_features=768, bias=True)\n",
              "              (value): Linear(in_features=768, out_features=768, bias=True)\n",
              "              (dropout): Dropout(p=0.1, inplace=False)\n",
              "            )\n",
              "            (output): BertSelfOutput(\n",
              "              (dense): Linear(in_features=768, out_features=768, bias=True)\n",
              "              (LayerNorm): LayerNorm((768,), eps=1e-12, elementwise_affine=True)\n",
              "              (dropout): Dropout(p=0.1, inplace=False)\n",
              "            )\n",
              "          )\n",
              "          (intermediate): BertIntermediate(\n",
              "            (dense): Linear(in_features=768, out_features=3072, bias=True)\n",
              "          )\n",
              "          (output): BertOutput(\n",
              "            (dense): Linear(in_features=3072, out_features=768, bias=True)\n",
              "            (LayerNorm): LayerNorm((768,), eps=1e-12, elementwise_affine=True)\n",
              "            (dropout): Dropout(p=0.1, inplace=False)\n",
              "          )\n",
              "        )\n",
              "        (4): BertLayer(\n",
              "          (attention): BertAttention(\n",
              "            (self): BertSelfAttention(\n",
              "              (query): Linear(in_features=768, out_features=768, bias=True)\n",
              "              (key): Linear(in_features=768, out_features=768, bias=True)\n",
              "              (value): Linear(in_features=768, out_features=768, bias=True)\n",
              "              (dropout): Dropout(p=0.1, inplace=False)\n",
              "            )\n",
              "            (output): BertSelfOutput(\n",
              "              (dense): Linear(in_features=768, out_features=768, bias=True)\n",
              "              (LayerNorm): LayerNorm((768,), eps=1e-12, elementwise_affine=True)\n",
              "              (dropout): Dropout(p=0.1, inplace=False)\n",
              "            )\n",
              "          )\n",
              "          (intermediate): BertIntermediate(\n",
              "            (dense): Linear(in_features=768, out_features=3072, bias=True)\n",
              "          )\n",
              "          (output): BertOutput(\n",
              "            (dense): Linear(in_features=3072, out_features=768, bias=True)\n",
              "            (LayerNorm): LayerNorm((768,), eps=1e-12, elementwise_affine=True)\n",
              "            (dropout): Dropout(p=0.1, inplace=False)\n",
              "          )\n",
              "        )\n",
              "        (5): BertLayer(\n",
              "          (attention): BertAttention(\n",
              "            (self): BertSelfAttention(\n",
              "              (query): Linear(in_features=768, out_features=768, bias=True)\n",
              "              (key): Linear(in_features=768, out_features=768, bias=True)\n",
              "              (value): Linear(in_features=768, out_features=768, bias=True)\n",
              "              (dropout): Dropout(p=0.1, inplace=False)\n",
              "            )\n",
              "            (output): BertSelfOutput(\n",
              "              (dense): Linear(in_features=768, out_features=768, bias=True)\n",
              "              (LayerNorm): LayerNorm((768,), eps=1e-12, elementwise_affine=True)\n",
              "              (dropout): Dropout(p=0.1, inplace=False)\n",
              "            )\n",
              "          )\n",
              "          (intermediate): BertIntermediate(\n",
              "            (dense): Linear(in_features=768, out_features=3072, bias=True)\n",
              "          )\n",
              "          (output): BertOutput(\n",
              "            (dense): Linear(in_features=3072, out_features=768, bias=True)\n",
              "            (LayerNorm): LayerNorm((768,), eps=1e-12, elementwise_affine=True)\n",
              "            (dropout): Dropout(p=0.1, inplace=False)\n",
              "          )\n",
              "        )\n",
              "        (6): BertLayer(\n",
              "          (attention): BertAttention(\n",
              "            (self): BertSelfAttention(\n",
              "              (query): Linear(in_features=768, out_features=768, bias=True)\n",
              "              (key): Linear(in_features=768, out_features=768, bias=True)\n",
              "              (value): Linear(in_features=768, out_features=768, bias=True)\n",
              "              (dropout): Dropout(p=0.1, inplace=False)\n",
              "            )\n",
              "            (output): BertSelfOutput(\n",
              "              (dense): Linear(in_features=768, out_features=768, bias=True)\n",
              "              (LayerNorm): LayerNorm((768,), eps=1e-12, elementwise_affine=True)\n",
              "              (dropout): Dropout(p=0.1, inplace=False)\n",
              "            )\n",
              "          )\n",
              "          (intermediate): BertIntermediate(\n",
              "            (dense): Linear(in_features=768, out_features=3072, bias=True)\n",
              "          )\n",
              "          (output): BertOutput(\n",
              "            (dense): Linear(in_features=3072, out_features=768, bias=True)\n",
              "            (LayerNorm): LayerNorm((768,), eps=1e-12, elementwise_affine=True)\n",
              "            (dropout): Dropout(p=0.1, inplace=False)\n",
              "          )\n",
              "        )\n",
              "        (7): BertLayer(\n",
              "          (attention): BertAttention(\n",
              "            (self): BertSelfAttention(\n",
              "              (query): Linear(in_features=768, out_features=768, bias=True)\n",
              "              (key): Linear(in_features=768, out_features=768, bias=True)\n",
              "              (value): Linear(in_features=768, out_features=768, bias=True)\n",
              "              (dropout): Dropout(p=0.1, inplace=False)\n",
              "            )\n",
              "            (output): BertSelfOutput(\n",
              "              (dense): Linear(in_features=768, out_features=768, bias=True)\n",
              "              (LayerNorm): LayerNorm((768,), eps=1e-12, elementwise_affine=True)\n",
              "              (dropout): Dropout(p=0.1, inplace=False)\n",
              "            )\n",
              "          )\n",
              "          (intermediate): BertIntermediate(\n",
              "            (dense): Linear(in_features=768, out_features=3072, bias=True)\n",
              "          )\n",
              "          (output): BertOutput(\n",
              "            (dense): Linear(in_features=3072, out_features=768, bias=True)\n",
              "            (LayerNorm): LayerNorm((768,), eps=1e-12, elementwise_affine=True)\n",
              "            (dropout): Dropout(p=0.1, inplace=False)\n",
              "          )\n",
              "        )\n",
              "        (8): BertLayer(\n",
              "          (attention): BertAttention(\n",
              "            (self): BertSelfAttention(\n",
              "              (query): Linear(in_features=768, out_features=768, bias=True)\n",
              "              (key): Linear(in_features=768, out_features=768, bias=True)\n",
              "              (value): Linear(in_features=768, out_features=768, bias=True)\n",
              "              (dropout): Dropout(p=0.1, inplace=False)\n",
              "            )\n",
              "            (output): BertSelfOutput(\n",
              "              (dense): Linear(in_features=768, out_features=768, bias=True)\n",
              "              (LayerNorm): LayerNorm((768,), eps=1e-12, elementwise_affine=True)\n",
              "              (dropout): Dropout(p=0.1, inplace=False)\n",
              "            )\n",
              "          )\n",
              "          (intermediate): BertIntermediate(\n",
              "            (dense): Linear(in_features=768, out_features=3072, bias=True)\n",
              "          )\n",
              "          (output): BertOutput(\n",
              "            (dense): Linear(in_features=3072, out_features=768, bias=True)\n",
              "            (LayerNorm): LayerNorm((768,), eps=1e-12, elementwise_affine=True)\n",
              "            (dropout): Dropout(p=0.1, inplace=False)\n",
              "          )\n",
              "        )\n",
              "        (9): BertLayer(\n",
              "          (attention): BertAttention(\n",
              "            (self): BertSelfAttention(\n",
              "              (query): Linear(in_features=768, out_features=768, bias=True)\n",
              "              (key): Linear(in_features=768, out_features=768, bias=True)\n",
              "              (value): Linear(in_features=768, out_features=768, bias=True)\n",
              "              (dropout): Dropout(p=0.1, inplace=False)\n",
              "            )\n",
              "            (output): BertSelfOutput(\n",
              "              (dense): Linear(in_features=768, out_features=768, bias=True)\n",
              "              (LayerNorm): LayerNorm((768,), eps=1e-12, elementwise_affine=True)\n",
              "              (dropout): Dropout(p=0.1, inplace=False)\n",
              "            )\n",
              "          )\n",
              "          (intermediate): BertIntermediate(\n",
              "            (dense): Linear(in_features=768, out_features=3072, bias=True)\n",
              "          )\n",
              "          (output): BertOutput(\n",
              "            (dense): Linear(in_features=3072, out_features=768, bias=True)\n",
              "            (LayerNorm): LayerNorm((768,), eps=1e-12, elementwise_affine=True)\n",
              "            (dropout): Dropout(p=0.1, inplace=False)\n",
              "          )\n",
              "        )\n",
              "        (10): BertLayer(\n",
              "          (attention): BertAttention(\n",
              "            (self): BertSelfAttention(\n",
              "              (query): Linear(in_features=768, out_features=768, bias=True)\n",
              "              (key): Linear(in_features=768, out_features=768, bias=True)\n",
              "              (value): Linear(in_features=768, out_features=768, bias=True)\n",
              "              (dropout): Dropout(p=0.1, inplace=False)\n",
              "            )\n",
              "            (output): BertSelfOutput(\n",
              "              (dense): Linear(in_features=768, out_features=768, bias=True)\n",
              "              (LayerNorm): LayerNorm((768,), eps=1e-12, elementwise_affine=True)\n",
              "              (dropout): Dropout(p=0.1, inplace=False)\n",
              "            )\n",
              "          )\n",
              "          (intermediate): BertIntermediate(\n",
              "            (dense): Linear(in_features=768, out_features=3072, bias=True)\n",
              "          )\n",
              "          (output): BertOutput(\n",
              "            (dense): Linear(in_features=3072, out_features=768, bias=True)\n",
              "            (LayerNorm): LayerNorm((768,), eps=1e-12, elementwise_affine=True)\n",
              "            (dropout): Dropout(p=0.1, inplace=False)\n",
              "          )\n",
              "        )\n",
              "        (11): BertLayer(\n",
              "          (attention): BertAttention(\n",
              "            (self): BertSelfAttention(\n",
              "              (query): Linear(in_features=768, out_features=768, bias=True)\n",
              "              (key): Linear(in_features=768, out_features=768, bias=True)\n",
              "              (value): Linear(in_features=768, out_features=768, bias=True)\n",
              "              (dropout): Dropout(p=0.1, inplace=False)\n",
              "            )\n",
              "            (output): BertSelfOutput(\n",
              "              (dense): Linear(in_features=768, out_features=768, bias=True)\n",
              "              (LayerNorm): LayerNorm((768,), eps=1e-12, elementwise_affine=True)\n",
              "              (dropout): Dropout(p=0.1, inplace=False)\n",
              "            )\n",
              "          )\n",
              "          (intermediate): BertIntermediate(\n",
              "            (dense): Linear(in_features=768, out_features=3072, bias=True)\n",
              "          )\n",
              "          (output): BertOutput(\n",
              "            (dense): Linear(in_features=3072, out_features=768, bias=True)\n",
              "            (LayerNorm): LayerNorm((768,), eps=1e-12, elementwise_affine=True)\n",
              "            (dropout): Dropout(p=0.1, inplace=False)\n",
              "          )\n",
              "        )\n",
              "      )\n",
              "    )\n",
              "    (pooler): BertPooler(\n",
              "      (dense): Linear(in_features=768, out_features=768, bias=True)\n",
              "      (activation): Tanh()\n",
              "    )\n",
              "  )\n",
              "  (dropout): Dropout(p=0.1, inplace=False)\n",
              "  (classifier): Linear(in_features=768, out_features=4, bias=True)\n",
              ")"
            ]
          },
          "metadata": {
            "tags": []
          },
          "execution_count": 26
        }
      ]
    },
    {
      "cell_type": "code",
      "metadata": {
        "id": "hYqMtd71QAuH",
        "colab_type": "code",
        "colab": {
          "base_uri": "https://localhost:8080/",
          "height": 612
        },
        "outputId": "19fba7d1-81bb-4cbc-cc18-d8765a84eff6"
      },
      "source": [
        "# # Get all of the model's parameters as a list of tuples.\n",
        "# params = list(model.named_parameters())\n",
        "\n",
        "# print('The BERT model has {:} different named parameters.\\n'.format(len(params)))\n",
        "\n",
        "# print('==== Embedding Layer ====\\n')\n",
        "\n",
        "# for p in params[0:5]:\n",
        "#     print(\"{:<55} {:>12}\".format(p[0], str(tuple(p[1].size()))))\n",
        "\n",
        "# print('\\n==== First Transformer ====\\n')\n",
        "\n",
        "# for p in params[5:21]:\n",
        "#     print(\"{:<55} {:>12}\".format(p[0], str(tuple(p[1].size()))))\n",
        "\n",
        "# print('\\n==== Output Layer ====\\n')\n",
        "\n",
        "# for p in params[-4:]:\n",
        "#     print(\"{:<55} {:>12}\".format(p[0], str(tuple(p[1].size()))))"
      ],
      "execution_count": 52,
      "outputs": [
        {
          "output_type": "stream",
          "text": [
            "The BERT model has 201 different named parameters.\n",
            "\n",
            "==== Embedding Layer ====\n",
            "\n",
            "bert.embeddings.word_embeddings.weight                  (30522, 768)\n",
            "bert.embeddings.position_embeddings.weight                (512, 768)\n",
            "bert.embeddings.token_type_embeddings.weight                (2, 768)\n",
            "bert.embeddings.LayerNorm.weight                              (768,)\n",
            "bert.embeddings.LayerNorm.bias                                (768,)\n",
            "\n",
            "==== First Transformer ====\n",
            "\n",
            "bert.encoder.layer.0.attention.self.query.weight          (768, 768)\n",
            "bert.encoder.layer.0.attention.self.query.bias                (768,)\n",
            "bert.encoder.layer.0.attention.self.key.weight            (768, 768)\n",
            "bert.encoder.layer.0.attention.self.key.bias                  (768,)\n",
            "bert.encoder.layer.0.attention.self.value.weight          (768, 768)\n",
            "bert.encoder.layer.0.attention.self.value.bias                (768,)\n",
            "bert.encoder.layer.0.attention.output.dense.weight        (768, 768)\n",
            "bert.encoder.layer.0.attention.output.dense.bias              (768,)\n",
            "bert.encoder.layer.0.attention.output.LayerNorm.weight        (768,)\n",
            "bert.encoder.layer.0.attention.output.LayerNorm.bias          (768,)\n",
            "bert.encoder.layer.0.intermediate.dense.weight           (3072, 768)\n",
            "bert.encoder.layer.0.intermediate.dense.bias                 (3072,)\n",
            "bert.encoder.layer.0.output.dense.weight                 (768, 3072)\n",
            "bert.encoder.layer.0.output.dense.bias                        (768,)\n",
            "bert.encoder.layer.0.output.LayerNorm.weight                  (768,)\n",
            "bert.encoder.layer.0.output.LayerNorm.bias                    (768,)\n",
            "\n",
            "==== Output Layer ====\n",
            "\n",
            "bert.pooler.dense.weight                                  (768, 768)\n",
            "bert.pooler.dense.bias                                        (768,)\n",
            "classifier.weight                                           (4, 768)\n",
            "classifier.bias                                                 (4,)\n"
          ],
          "name": "stdout"
        }
      ]
    },
    {
      "cell_type": "code",
      "metadata": {
        "id": "LXzS-IGDQSFf",
        "colab_type": "code",
        "colab": {}
      },
      "source": [
        "# Note: AdamW is a class from the huggingface library (as opposed to pytorch) \n",
        "# I believe the 'W' stands for 'Weight Decay fix\"\n",
        "optimizer = AdamW(model.parameters(),\n",
        "                  lr = 2e-5, # args.learning_rate - default is 5e-5, our notebook had 2e-5\n",
        "                  eps = 1e-8 # args.adam_epsilon  - default is 1e-8.\n",
        "                )"
      ],
      "execution_count": 27,
      "outputs": []
    },
    {
      "cell_type": "code",
      "metadata": {
        "id": "nKzXAfWZQdYy",
        "colab_type": "code",
        "colab": {}
      },
      "source": [
        "from transformers import get_linear_schedule_with_warmup\n",
        "\n",
        "# Number of training epochs. The BERT authors recommend between 2 and 4. \n",
        "# We chose to run for 4, but we'll see later that this may be over-fitting the\n",
        "# training data.\n",
        "epochs = 4\n",
        "\n",
        "# Total number of training steps is [number of batches] x [number of epochs]. \n",
        "# (Note that this is not the same as the number of training samples).\n",
        "total_steps = len(dataLoader) * epochs\n",
        "\n",
        "# Create the learning rate scheduler.\n",
        "scheduler = get_linear_schedule_with_warmup(optimizer, \n",
        "                                            num_warmup_steps = 0, # Default value in run_glue.py\n",
        "                                            num_training_steps = total_steps)"
      ],
      "execution_count": 28,
      "outputs": []
    },
    {
      "cell_type": "code",
      "metadata": {
        "id": "0tXTgrkqQlXf",
        "colab_type": "code",
        "colab": {}
      },
      "source": [
        "import numpy as np\n",
        "\n",
        "# Function to calculate the accuracy of our predictions vs labels\n",
        "def flat_accuracy(preds, labels):\n",
        "    pred_flat = np.argmax(preds, axis=1).flatten()\n",
        "    labels_flat = labels.flatten()\n",
        "    return np.sum(pred_flat == labels_flat) / len(labels_flat)"
      ],
      "execution_count": 29,
      "outputs": []
    },
    {
      "cell_type": "code",
      "metadata": {
        "id": "1VP12NhwQoe9",
        "colab_type": "code",
        "colab": {}
      },
      "source": [
        "import time\n",
        "import datetime\n",
        "\n",
        "def format_time(elapsed):\n",
        "    '''\n",
        "    Takes a time in seconds and returns a string hh:mm:ss\n",
        "    '''\n",
        "    # Round to the nearest second.\n",
        "    elapsed_rounded = int(round((elapsed)))\n",
        "    \n",
        "    # Format as hh:mm:ss\n",
        "    return str(datetime.timedelta(seconds=elapsed_rounded))"
      ],
      "execution_count": 30,
      "outputs": []
    },
    {
      "cell_type": "code",
      "metadata": {
        "id": "-4xcg0aeQqkU",
        "colab_type": "code",
        "colab": {
          "base_uri": "https://localhost:8080/",
          "height": 1000
        },
        "outputId": "a3e84c70-a9ee-4f84-f589-c538419b58c7"
      },
      "source": [
        "import random\n",
        "import numpy as np\n",
        "\n",
        "# This training code is based on the `run_glue.py` script here:\n",
        "# https://github.com/huggingface/transformers/blob/5bfcd0485ece086ebcbed2d008813037968a9e58/examples/run_glue.py#L128\n",
        "\n",
        "# Set the seed value all over the place to make this reproducible.\n",
        "seed_val = 42\n",
        "\n",
        "random.seed(seed_val)\n",
        "np.random.seed(seed_val)\n",
        "torch.manual_seed(seed_val)\n",
        "torch.cuda.manual_seed_all(seed_val)\n",
        "\n",
        "# We'll store a number of quantities such as training and validation loss, \n",
        "# validation accuracy, and timings.\n",
        "training_stats = []\n",
        "\n",
        "test_stats = []\n",
        "\n",
        "# Measure the total training time for the whole run.\n",
        "total_t0 = time.time()\n",
        "\n",
        "# For each epoch...\n",
        "for epoch_i in range(0, epochs):\n",
        "    \n",
        "    # ========================================\n",
        "    #               Training\n",
        "    # ========================================\n",
        "    \n",
        "    # Perform one full pass over the training set.\n",
        "\n",
        "    print(\"\")\n",
        "    print('======== Epoch {:} / {:} ========'.format(epoch_i + 1, epochs))\n",
        "    print('Training...')\n",
        "\n",
        "    # Measure how long the training epoch takes.\n",
        "    t0 = time.time()\n",
        "\n",
        "    # Reset the total loss for this epoch.\n",
        "    total_train_loss = 0\n",
        "\n",
        "    # Put the model into training mode. Don't be mislead--the call to \n",
        "    # `train` just changes the *mode*, it doesn't *perform* the training.\n",
        "    # `dropout` and `batchnorm` layers behave differently during training\n",
        "    # vs. test (source: https://stackoverflow.com/questions/51433378/what-does-model-train-do-in-pytorch)\n",
        "    model.train()\n",
        "\n",
        "    # For each batch of training data...\n",
        "    for step, batch in enumerate(dataLoader):\n",
        "\n",
        "        # Progress update every 50 batches.\n",
        "        if step % 50 == 0 and not step == 0:\n",
        "            # Calculate elapsed time in minutes.\n",
        "            elapsed = format_time(time.time() - t0)\n",
        "            \n",
        "            # Report progress.\n",
        "            print('  Batch {:>5,}  of  {:>5,}.    Elapsed: {:}.'.format(step, len(dataLoader), elapsed))\n",
        "\n",
        "        # Unpack this training batch from our dataloader. \n",
        "        #\n",
        "        # As we unpack the batch, we'll also copy each tensor to the GPU using the \n",
        "        # `to` method.\n",
        "        #\n",
        "        # `batch` contains three pytorch tensors:\n",
        "        #   [0]: input ids \n",
        "        #   [1]: attention masks\n",
        "        #   [2]: labels \n",
        "        b_input_ids = batch[0].to(device)\n",
        "        b_input_mask = batch[1].to(device)\n",
        "        b_labels = batch[2].to(device)\n",
        "\n",
        "        # Always clear any previously calculated gradients before performing a\n",
        "        # backward pass. PyTorch doesn't do this automatically because \n",
        "        # accumulating the gradients is \"convenient while training RNNs\". \n",
        "        # (source: https://stackoverflow.com/questions/48001598/why-do-we-need-to-call-zero-grad-in-pytorch)\n",
        "        model.zero_grad()        \n",
        "\n",
        "        # Perform a forward pass (evaluate the model on this training batch).\n",
        "        # The documentation for this `model` function is here: \n",
        "        # https://huggingface.co/transformers/v2.2.0/model_doc/bert.html#transformers.BertForSequenceClassification\n",
        "        # It returns different numbers of parameters depending on what arguments\n",
        "        # arge given and what flags are set. For our useage here, it returns\n",
        "        # the loss (because we provided labels) and the \"logits\"--the model\n",
        "        # outputs prior to activation.\n",
        "        loss, logits = model(b_input_ids, \n",
        "                             token_type_ids=None, \n",
        "                             attention_mask=b_input_mask, \n",
        "                             labels=b_labels)\n",
        "\n",
        "        # Accumulate the training loss over all of the batches so that we can\n",
        "        # calculate the average loss at the end. `loss` is a Tensor containing a\n",
        "        # single value; the `.item()` function just returns the Python value \n",
        "        # from the tensor.\n",
        "        total_train_loss += loss.item()\n",
        "\n",
        "        # Perform a backward pass to calculate the gradients.\n",
        "        loss.backward()\n",
        "\n",
        "        # Clip the norm of the gradients to 1.0.\n",
        "        # This is to help prevent the \"exploding gradients\" problem.\n",
        "        torch.nn.utils.clip_grad_norm_(model.parameters(), 1.0)\n",
        "\n",
        "        # Update parameters and take a step using the computed gradient.\n",
        "        # The optimizer dictates the \"update rule\"--how the parameters are\n",
        "        # modified based on their gradients, the learning rate, etc.\n",
        "        optimizer.step()\n",
        "\n",
        "        # Update the learning rate.\n",
        "        scheduler.step()\n",
        "\n",
        "    # Calculate the average loss over all of the batches.\n",
        "    avg_train_loss = total_train_loss / len(dataLoader)            \n",
        "    \n",
        "    # Measure how long this epoch took.\n",
        "    training_time = format_time(time.time() - t0)\n",
        "\n",
        "    print(\"\")\n",
        "    print(\"  Average training loss: {0:.2f}\".format(avg_train_loss))\n",
        "    print(\"  Training epcoh took: {:}\".format(training_time))\n",
        "        \n",
        "    # ========================================\n",
        "    #               Validation\n",
        "    # ========================================\n",
        "    # After the completion of each training epoch, measure our performance on\n",
        "    # our validation set.\n",
        "\n",
        "    print(\"\")\n",
        "    print(\"Running Validation...\")\n",
        "\n",
        "    t0 = time.time()\n",
        "\n",
        "    # Put the model in evaluation mode--the dropout layers behave differently\n",
        "    # during evaluation.\n",
        "    model.eval()\n",
        "\n",
        "    \n",
        "\n",
        "    # Prediction on test set\n",
        "\n",
        "    print('Predicting labels for test sentences...')\n",
        "\n",
        "    # Tracking variables \n",
        "    predictions , true_labels = [], []\n",
        "\n",
        "    # Predict \n",
        "    for batch in prediction_dataloader:\n",
        "        # Add batch to GPU\n",
        "        batch = tuple(t.to(device) for t in batch)\n",
        "        \n",
        "        # Unpack the inputs from our dataloader\n",
        "        b_input_ids, b_input_mask, b_labels = batch\n",
        "        \n",
        "        # Telling the model not to compute or store gradients, saving memory and \n",
        "        # speeding up prediction\n",
        "        with torch.no_grad():\n",
        "            # Forward pass, calculate logit predictions\n",
        "            outputs = model(b_input_ids, token_type_ids=None, \n",
        "                            attention_mask=b_input_mask)\n",
        "\n",
        "        logits = outputs[0]\n",
        "\n",
        "        # Move logits and labels to CPU\n",
        "        logits = logits.detach().cpu().numpy()\n",
        "        label_ids = b_labels.to('cpu').numpy()\n",
        "        \n",
        "        # Store predictions and true labels\n",
        "        predictions.append(logits)\n",
        "        true_labels.append(label_ids)\n",
        "\n",
        "    accuracy, microPrecision, microRecall, microF1 = getMetrics(np.concatenate(predictions), to_categorical(np.asarray(bertTestLabels)))\n",
        "\n",
        "    test_stats.append([accuracy, microPrecision, microRecall, microF1])\n",
        "\n",
        "    print('    DONE.')\n",
        "\n",
        "\n",
        "\n",
        "    # Tracking variables \n",
        "    total_eval_accuracy = 0\n",
        "    total_eval_loss = 0\n",
        "    nb_eval_steps = 0\n",
        "\n",
        "    # Evaluate data for one epoch\n",
        "    for batch in validation_dataloader:\n",
        "        \n",
        "        # Unpack this training batch from our dataloader. \n",
        "        #\n",
        "        # As we unpack the batch, we'll also copy each tensor to the GPU using \n",
        "        # the `to` method.\n",
        "        #\n",
        "        # `batch` contains three pytorch tensors:\n",
        "        #   [0]: input ids \n",
        "        #   [1]: attention masks\n",
        "        #   [2]: labels \n",
        "        b_input_ids = batch[0].to(device)\n",
        "        b_input_mask = batch[1].to(device)\n",
        "        b_labels = batch[2].to(device)\n",
        "        \n",
        "        # Tell pytorch not to bother with constructing the compute graph during\n",
        "        # the forward pass, since this is only needed for backprop (training).\n",
        "        with torch.no_grad():        \n",
        "\n",
        "            # Forward pass, calculate logit predictions.\n",
        "            # token_type_ids is the same as the \"segment ids\", which \n",
        "            # differentiates sentence 1 and 2 in 2-sentence tasks.\n",
        "            # The documentation for this `model` function is here: \n",
        "            # https://huggingface.co/transformers/v2.2.0/model_doc/bert.html#transformers.BertForSequenceClassification\n",
        "            # Get the \"logits\" output by the model. The \"logits\" are the output\n",
        "            # values prior to applying an activation function like the softmax.\n",
        "            (loss, logits) = model(b_input_ids, \n",
        "                                   token_type_ids=None, \n",
        "                                   attention_mask=b_input_mask,\n",
        "                                   labels=b_labels)\n",
        "            \n",
        "        # Accumulate the validation loss.\n",
        "        total_eval_loss += loss.item()\n",
        "\n",
        "        # Move logits and labels to CPU\n",
        "        logits = logits.detach().cpu().numpy()\n",
        "        label_ids = b_labels.to('cpu').numpy()\n",
        "\n",
        "        # Calculate the accuracy for this batch of test sentences, and\n",
        "        # accumulate it over all batches.\n",
        "        total_eval_accuracy += flat_accuracy(logits, label_ids)\n",
        "        \n",
        "\n",
        "    # Report the final accuracy for this validation run.\n",
        "    avg_val_accuracy = total_eval_accuracy / len(validation_dataloader)\n",
        "    print(\"  Accuracy: {0:.2f}\".format(avg_val_accuracy))\n",
        "\n",
        "    # Calculate the average loss over all of the batches.\n",
        "    avg_val_loss = total_eval_loss / len(validation_dataloader)\n",
        "    \n",
        "    # Measure how long the validation run took.\n",
        "    validation_time = format_time(time.time() - t0)\n",
        "    \n",
        "    print(\"  Validation Loss: {0:.2f}\".format(avg_val_loss))\n",
        "    print(\"  Validation took: {:}\".format(validation_time))\n",
        "\n",
        "    # Record all statistics from this epoch.\n",
        "    training_stats.append(\n",
        "        {\n",
        "            'epoch': epoch_i + 1,\n",
        "            'Training Loss': avg_train_loss,\n",
        "            'Valid. Loss': avg_val_loss,\n",
        "            'Valid. Accur.': avg_val_accuracy,\n",
        "            'Training Time': training_time,\n",
        "            'Validation Time': validation_time\n",
        "        }\n",
        "    )\n",
        "\n",
        "print(\"\")\n",
        "print(\"Training complete!\")\n",
        "\n",
        "print(\"Total training took {:} (h:mm:ss)\".format(format_time(time.time()-total_t0)))"
      ],
      "execution_count": 31,
      "outputs": [
        {
          "output_type": "stream",
          "text": [
            "\n",
            "======== Epoch 1 / 4 ========\n",
            "Training...\n",
            "  Batch    50  of    943.    Elapsed: 0:00:37.\n",
            "  Batch   100  of    943.    Elapsed: 0:01:14.\n",
            "  Batch   150  of    943.    Elapsed: 0:01:52.\n",
            "  Batch   200  of    943.    Elapsed: 0:02:30.\n",
            "  Batch   250  of    943.    Elapsed: 0:03:07.\n",
            "  Batch   300  of    943.    Elapsed: 0:03:45.\n",
            "  Batch   350  of    943.    Elapsed: 0:04:22.\n",
            "  Batch   400  of    943.    Elapsed: 0:05:00.\n",
            "  Batch   450  of    943.    Elapsed: 0:05:37.\n",
            "  Batch   500  of    943.    Elapsed: 0:06:15.\n",
            "  Batch   550  of    943.    Elapsed: 0:06:53.\n",
            "  Batch   600  of    943.    Elapsed: 0:07:30.\n",
            "  Batch   650  of    943.    Elapsed: 0:08:08.\n",
            "  Batch   700  of    943.    Elapsed: 0:08:45.\n",
            "  Batch   750  of    943.    Elapsed: 0:09:23.\n",
            "  Batch   800  of    943.    Elapsed: 0:10:00.\n",
            "  Batch   850  of    943.    Elapsed: 0:10:38.\n",
            "  Batch   900  of    943.    Elapsed: 0:11:16.\n",
            "\n",
            "  Average training loss: 0.42\n",
            "  Training epcoh took: 0:11:48\n",
            "\n",
            "Running Validation...\n",
            "Predicting labels for test sentences...\n",
            "True Positives per class :  [4140.  232.  198.  256.]\n",
            "False Positives per class :  [ 80. 275. 143. 185.]\n",
            "False Negatives per class :  [537.  52.  52.  42.]\n",
            "Class happy : Precision : 0.458, Recall : 0.817, F1 : 0.587\n",
            "Class sad : Precision : 0.581, Recall : 0.792, F1 : 0.670\n",
            "Class angry : Precision : 0.580, Recall : 0.859, F1 : 0.693\n",
            "Ignoring the Others class, Macro Precision : 0.5396, Macro Recall : 0.8227, Macro F1 : 0.6517\n",
            "Ignoring the Others class, Micro TP : 686, FP : 603, FN : 146\n",
            "Accuracy : 0.8760, Micro Precision : 0.5322, Micro Recall : 0.8245, Micro F1 : 0.6469\n",
            "    DONE.\n",
            "  Accuracy: 0.91\n",
            "  Validation Loss: 0.23\n",
            "  Validation took: 0:00:44\n",
            "\n",
            "======== Epoch 2 / 4 ========\n",
            "Training...\n",
            "  Batch    50  of    943.    Elapsed: 0:00:37.\n",
            "  Batch   100  of    943.    Elapsed: 0:01:15.\n",
            "  Batch   150  of    943.    Elapsed: 0:01:53.\n",
            "  Batch   200  of    943.    Elapsed: 0:02:30.\n",
            "  Batch   250  of    943.    Elapsed: 0:03:08.\n",
            "  Batch   300  of    943.    Elapsed: 0:03:45.\n",
            "  Batch   350  of    943.    Elapsed: 0:04:23.\n",
            "  Batch   400  of    943.    Elapsed: 0:05:01.\n",
            "  Batch   450  of    943.    Elapsed: 0:05:38.\n",
            "  Batch   500  of    943.    Elapsed: 0:06:16.\n",
            "  Batch   550  of    943.    Elapsed: 0:06:53.\n",
            "  Batch   600  of    943.    Elapsed: 0:07:31.\n",
            "  Batch   650  of    943.    Elapsed: 0:08:09.\n",
            "  Batch   700  of    943.    Elapsed: 0:08:46.\n",
            "  Batch   750  of    943.    Elapsed: 0:09:24.\n",
            "  Batch   800  of    943.    Elapsed: 0:10:01.\n",
            "  Batch   850  of    943.    Elapsed: 0:10:39.\n",
            "  Batch   900  of    943.    Elapsed: 0:11:17.\n",
            "\n",
            "  Average training loss: 0.23\n",
            "  Training epcoh took: 0:11:49\n",
            "\n",
            "Running Validation...\n",
            "Predicting labels for test sentences...\n",
            "True Positives per class :  [4123.  228.  200.  260.]\n",
            "False Positives per class :  [ 78. 257. 163. 200.]\n",
            "False Negatives per class :  [554.  56.  50.  38.]\n",
            "Class happy : Precision : 0.470, Recall : 0.803, F1 : 0.593\n",
            "Class sad : Precision : 0.551, Recall : 0.800, F1 : 0.653\n",
            "Class angry : Precision : 0.565, Recall : 0.872, F1 : 0.686\n",
            "Ignoring the Others class, Macro Precision : 0.5288, Macro Recall : 0.8251, Macro F1 : 0.6445\n",
            "Ignoring the Others class, Micro TP : 688, FP : 620, FN : 144\n",
            "Accuracy : 0.8733, Micro Precision : 0.5260, Micro Recall : 0.8269, Micro F1 : 0.6430\n",
            "    DONE.\n",
            "  Accuracy: 0.96\n",
            "  Validation Loss: 0.12\n",
            "  Validation took: 0:00:44\n",
            "\n",
            "======== Epoch 3 / 4 ========\n",
            "Training...\n",
            "  Batch    50  of    943.    Elapsed: 0:00:38.\n",
            "  Batch   100  of    943.    Elapsed: 0:01:15.\n",
            "  Batch   150  of    943.    Elapsed: 0:01:53.\n",
            "  Batch   200  of    943.    Elapsed: 0:02:30.\n",
            "  Batch   250  of    943.    Elapsed: 0:03:08.\n",
            "  Batch   300  of    943.    Elapsed: 0:03:45.\n",
            "  Batch   350  of    943.    Elapsed: 0:04:23.\n",
            "  Batch   400  of    943.    Elapsed: 0:05:00.\n",
            "  Batch   450  of    943.    Elapsed: 0:05:38.\n",
            "  Batch   500  of    943.    Elapsed: 0:06:16.\n",
            "  Batch   550  of    943.    Elapsed: 0:06:53.\n",
            "  Batch   600  of    943.    Elapsed: 0:07:31.\n",
            "  Batch   650  of    943.    Elapsed: 0:08:08.\n",
            "  Batch   700  of    943.    Elapsed: 0:08:46.\n",
            "  Batch   750  of    943.    Elapsed: 0:09:23.\n",
            "  Batch   800  of    943.    Elapsed: 0:10:01.\n",
            "  Batch   850  of    943.    Elapsed: 0:10:39.\n",
            "  Batch   900  of    943.    Elapsed: 0:11:16.\n",
            "\n",
            "  Average training loss: 0.17\n",
            "  Training epcoh took: 0:11:48\n",
            "\n",
            "Running Validation...\n",
            "Predicting labels for test sentences...\n",
            "True Positives per class :  [4183.  214.  200.  250.]\n",
            "False Positives per class :  [100. 213. 187. 162.]\n",
            "False Negatives per class :  [494.  70.  50.  48.]\n",
            "Class happy : Precision : 0.501, Recall : 0.754, F1 : 0.602\n",
            "Class sad : Precision : 0.517, Recall : 0.800, F1 : 0.628\n",
            "Class angry : Precision : 0.607, Recall : 0.839, F1 : 0.704\n",
            "Ignoring the Others class, Macro Precision : 0.5416, Macro Recall : 0.7975, Macro F1 : 0.6451\n",
            "Ignoring the Others class, Micro TP : 664, FP : 562, FN : 168\n",
            "Accuracy : 0.8798, Micro Precision : 0.5416, Micro Recall : 0.7981, Micro F1 : 0.6453\n",
            "    DONE.\n",
            "  Accuracy: 0.98\n",
            "  Validation Loss: 0.07\n",
            "  Validation took: 0:00:44\n",
            "\n",
            "======== Epoch 4 / 4 ========\n",
            "Training...\n",
            "  Batch    50  of    943.    Elapsed: 0:00:38.\n",
            "  Batch   100  of    943.    Elapsed: 0:01:15.\n",
            "  Batch   150  of    943.    Elapsed: 0:01:53.\n",
            "  Batch   200  of    943.    Elapsed: 0:02:30.\n",
            "  Batch   250  of    943.    Elapsed: 0:03:08.\n",
            "  Batch   300  of    943.    Elapsed: 0:03:45.\n",
            "  Batch   350  of    943.    Elapsed: 0:04:23.\n",
            "  Batch   400  of    943.    Elapsed: 0:05:01.\n",
            "  Batch   450  of    943.    Elapsed: 0:05:38.\n",
            "  Batch   500  of    943.    Elapsed: 0:06:16.\n",
            "  Batch   550  of    943.    Elapsed: 0:06:53.\n",
            "  Batch   600  of    943.    Elapsed: 0:07:31.\n",
            "  Batch   650  of    943.    Elapsed: 0:08:09.\n",
            "  Batch   700  of    943.    Elapsed: 0:08:46.\n",
            "  Batch   750  of    943.    Elapsed: 0:09:24.\n",
            "  Batch   800  of    943.    Elapsed: 0:10:01.\n",
            "  Batch   850  of    943.    Elapsed: 0:10:39.\n",
            "  Batch   900  of    943.    Elapsed: 0:11:16.\n",
            "\n",
            "  Average training loss: 0.12\n",
            "  Training epcoh took: 0:11:48\n",
            "\n",
            "Running Validation...\n",
            "Predicting labels for test sentences...\n",
            "True Positives per class :  [4205.  208.  197.  262.]\n",
            "False Positives per class :  [104. 180. 140. 213.]\n",
            "False Negatives per class :  [472.  76.  53.  36.]\n",
            "Class happy : Precision : 0.536, Recall : 0.732, F1 : 0.619\n",
            "Class sad : Precision : 0.585, Recall : 0.788, F1 : 0.671\n",
            "Class angry : Precision : 0.552, Recall : 0.879, F1 : 0.678\n",
            "Ignoring the Others class, Macro Precision : 0.5574, Macro Recall : 0.7999, Macro F1 : 0.6570\n",
            "Ignoring the Others class, Micro TP : 667, FP : 533, FN : 165\n",
            "Accuracy : 0.8844, Micro Precision : 0.5558, Micro Recall : 0.8017, Micro F1 : 0.6565\n",
            "    DONE.\n",
            "  Accuracy: 0.99\n",
            "  Validation Loss: 0.05\n",
            "  Validation took: 0:00:44\n",
            "\n",
            "Training complete!\n",
            "Total training took 0:50:08 (h:mm:ss)\n"
          ],
          "name": "stdout"
        }
      ]
    },
    {
      "cell_type": "code",
      "metadata": {
        "id": "cWOaAwwcUyE3",
        "colab_type": "code",
        "colab": {
          "base_uri": "https://localhost:8080/",
          "height": 173
        },
        "outputId": "188c2486-f1ec-4ac9-fa4f-66a8d7d575e6"
      },
      "source": [
        "import pandas as pd\n",
        "\n",
        "# Display floats with two decimal places.\n",
        "pd.set_option('precision', 2)\n",
        "\n",
        "# Create a DataFrame from our training statistics.\n",
        "df_stats = pd.DataFrame(data=test_stats)\n",
        "\n",
        "# Use the 'epoch' as the row index.\n",
        "# df_stats = df_stats.set_index('epoch')\n",
        "\n",
        "# A hack to force the column headers to wrap.\n",
        "#df = df.style.set_table_styles([dict(selector=\"th\",props=[('max-width', '70px')])])\n",
        "\n",
        "# Display the table.\n",
        "df_stats"
      ],
      "execution_count": 33,
      "outputs": [
        {
          "output_type": "execute_result",
          "data": {
            "text/html": [
              "<div>\n",
              "<style scoped>\n",
              "    .dataframe tbody tr th:only-of-type {\n",
              "        vertical-align: middle;\n",
              "    }\n",
              "\n",
              "    .dataframe tbody tr th {\n",
              "        vertical-align: top;\n",
              "    }\n",
              "\n",
              "    .dataframe thead th {\n",
              "        text-align: right;\n",
              "    }\n",
              "</style>\n",
              "<table border=\"1\" class=\"dataframe\">\n",
              "  <thead>\n",
              "    <tr style=\"text-align: right;\">\n",
              "      <th></th>\n",
              "      <th>0</th>\n",
              "      <th>1</th>\n",
              "      <th>2</th>\n",
              "      <th>3</th>\n",
              "    </tr>\n",
              "  </thead>\n",
              "  <tbody>\n",
              "    <tr>\n",
              "      <th>0</th>\n",
              "      <td>0.88</td>\n",
              "      <td>0.53</td>\n",
              "      <td>0.82</td>\n",
              "      <td>0.65</td>\n",
              "    </tr>\n",
              "    <tr>\n",
              "      <th>1</th>\n",
              "      <td>0.87</td>\n",
              "      <td>0.53</td>\n",
              "      <td>0.83</td>\n",
              "      <td>0.64</td>\n",
              "    </tr>\n",
              "    <tr>\n",
              "      <th>2</th>\n",
              "      <td>0.88</td>\n",
              "      <td>0.54</td>\n",
              "      <td>0.80</td>\n",
              "      <td>0.65</td>\n",
              "    </tr>\n",
              "    <tr>\n",
              "      <th>3</th>\n",
              "      <td>0.88</td>\n",
              "      <td>0.56</td>\n",
              "      <td>0.80</td>\n",
              "      <td>0.66</td>\n",
              "    </tr>\n",
              "  </tbody>\n",
              "</table>\n",
              "</div>"
            ],
            "text/plain": [
              "      0     1     2     3\n",
              "0  0.88  0.53  0.82  0.65\n",
              "1  0.87  0.53  0.83  0.64\n",
              "2  0.88  0.54  0.80  0.65\n",
              "3  0.88  0.56  0.80  0.66"
            ]
          },
          "metadata": {
            "tags": []
          },
          "execution_count": 33
        }
      ]
    },
    {
      "cell_type": "code",
      "metadata": {
        "id": "0_xmFljzUoFr",
        "colab_type": "code",
        "colab": {
          "base_uri": "https://localhost:8080/",
          "height": 204
        },
        "outputId": "b853dad0-4d88-4eed-838d-a9598f4321a3"
      },
      "source": [
        "import pandas as pd\n",
        "\n",
        "# Display floats with two decimal places.\n",
        "pd.set_option('precision', 2)\n",
        "\n",
        "# Create a DataFrame from our training statistics.\n",
        "df_stats = pd.DataFrame(data=training_stats)\n",
        "\n",
        "# Use the 'epoch' as the row index.\n",
        "df_stats = df_stats.set_index('epoch')\n",
        "\n",
        "# A hack to force the column headers to wrap.\n",
        "#df = df.style.set_table_styles([dict(selector=\"th\",props=[('max-width', '70px')])])\n",
        "\n",
        "# Display the table.\n",
        "df_stats"
      ],
      "execution_count": 34,
      "outputs": [
        {
          "output_type": "execute_result",
          "data": {
            "text/html": [
              "<div>\n",
              "<style scoped>\n",
              "    .dataframe tbody tr th:only-of-type {\n",
              "        vertical-align: middle;\n",
              "    }\n",
              "\n",
              "    .dataframe tbody tr th {\n",
              "        vertical-align: top;\n",
              "    }\n",
              "\n",
              "    .dataframe thead th {\n",
              "        text-align: right;\n",
              "    }\n",
              "</style>\n",
              "<table border=\"1\" class=\"dataframe\">\n",
              "  <thead>\n",
              "    <tr style=\"text-align: right;\">\n",
              "      <th></th>\n",
              "      <th>Training Loss</th>\n",
              "      <th>Valid. Loss</th>\n",
              "      <th>Valid. Accur.</th>\n",
              "      <th>Training Time</th>\n",
              "      <th>Validation Time</th>\n",
              "    </tr>\n",
              "    <tr>\n",
              "      <th>epoch</th>\n",
              "      <th></th>\n",
              "      <th></th>\n",
              "      <th></th>\n",
              "      <th></th>\n",
              "      <th></th>\n",
              "    </tr>\n",
              "  </thead>\n",
              "  <tbody>\n",
              "    <tr>\n",
              "      <th>1</th>\n",
              "      <td>0.42</td>\n",
              "      <td>0.23</td>\n",
              "      <td>0.91</td>\n",
              "      <td>0:11:48</td>\n",
              "      <td>0:00:44</td>\n",
              "    </tr>\n",
              "    <tr>\n",
              "      <th>2</th>\n",
              "      <td>0.23</td>\n",
              "      <td>0.12</td>\n",
              "      <td>0.96</td>\n",
              "      <td>0:11:49</td>\n",
              "      <td>0:00:44</td>\n",
              "    </tr>\n",
              "    <tr>\n",
              "      <th>3</th>\n",
              "      <td>0.17</td>\n",
              "      <td>0.07</td>\n",
              "      <td>0.98</td>\n",
              "      <td>0:11:48</td>\n",
              "      <td>0:00:44</td>\n",
              "    </tr>\n",
              "    <tr>\n",
              "      <th>4</th>\n",
              "      <td>0.12</td>\n",
              "      <td>0.05</td>\n",
              "      <td>0.99</td>\n",
              "      <td>0:11:48</td>\n",
              "      <td>0:00:44</td>\n",
              "    </tr>\n",
              "  </tbody>\n",
              "</table>\n",
              "</div>"
            ],
            "text/plain": [
              "       Training Loss  Valid. Loss  Valid. Accur. Training Time Validation Time\n",
              "epoch                                                                         \n",
              "1               0.42         0.23           0.91       0:11:48         0:00:44\n",
              "2               0.23         0.12           0.96       0:11:49         0:00:44\n",
              "3               0.17         0.07           0.98       0:11:48         0:00:44\n",
              "4               0.12         0.05           0.99       0:11:48         0:00:44"
            ]
          },
          "metadata": {
            "tags": []
          },
          "execution_count": 34
        }
      ]
    },
    {
      "cell_type": "code",
      "metadata": {
        "id": "WftUbwmIWWzt",
        "colab_type": "code",
        "colab": {
          "base_uri": "https://localhost:8080/",
          "height": 388
        },
        "outputId": "c2866157-36a0-4d7a-b410-0ed282f711f5"
      },
      "source": [
        "rcParams['figure.figsize'] = 8,6\n",
        "# plt.plot(history.history['loss'])\n",
        "plt.plot(df_stats['Training Loss'], 'b-o', label=\"Train\")\n",
        "plt.plot(df_stats['Valid. Loss'], 'g-o', label=\"Validation\")\n",
        "plt.ylabel('loss')\n",
        "plt.xlabel('epoch')\n",
        "plt.legend(['train', 'validation'], loc='right')\n",
        "plt.show()"
      ],
      "execution_count": 35,
      "outputs": [
        {
          "output_type": "display_data",
          "data": {
            "image/png": "[encoded data removed]",
            "text/plain": [
              "<Figure size 576x432 with 1 Axes>"
            ]
          },
          "metadata": {
            "tags": [],
            "needs_background": "light"
          }
        }
      ]
    },
    {
      "cell_type": "code",
      "metadata": {
        "id": "pnaa2CYPHOIZ",
        "colab_type": "code",
        "colab": {
          "base_uri": "https://localhost:8080/",
          "height": 204
        },
        "outputId": "3a02089a-117f-48c1-c570-38d902fc48a3"
      },
      "source": [
        "import pandas as pd\n",
        "\n",
        "# Display floats with two decimal places.\n",
        "pd.set_option('precision', 2)\n",
        "\n",
        "# Create a DataFrame from our training statistics.\n",
        "df_stats = pd.DataFrame(data=training_stats)\n",
        "\n",
        "# Use the 'epoch' as the row index.\n",
        "df_stats = df_stats.set_index('epoch')\n",
        "\n",
        "# A hack to force the column headers to wrap.\n",
        "#df = df.style.set_table_styles([dict(selector=\"th\",props=[('max-width', '70px')])])\n",
        "\n",
        "# Display the table.\n",
        "df_stats"
      ],
      "execution_count": null,
      "outputs": [
        {
          "output_type": "execute_result",
          "data": {
            "text/html": [
              "<div>\n",
              "<style scoped>\n",
              "    .dataframe tbody tr th:only-of-type {\n",
              "        vertical-align: middle;\n",
              "    }\n",
              "\n",
              "    .dataframe tbody tr th {\n",
              "        vertical-align: top;\n",
              "    }\n",
              "\n",
              "    .dataframe thead th {\n",
              "        text-align: right;\n",
              "    }\n",
              "</style>\n",
              "<table border=\"1\" class=\"dataframe\">\n",
              "  <thead>\n",
              "    <tr style=\"text-align: right;\">\n",
              "      <th></th>\n",
              "      <th>Training Loss</th>\n",
              "      <th>Valid. Loss</th>\n",
              "      <th>Valid. Accur.</th>\n",
              "      <th>Training Time</th>\n",
              "      <th>Validation Time</th>\n",
              "    </tr>\n",
              "    <tr>\n",
              "      <th>epoch</th>\n",
              "      <th></th>\n",
              "      <th></th>\n",
              "      <th></th>\n",
              "      <th></th>\n",
              "      <th></th>\n",
              "    </tr>\n",
              "  </thead>\n",
              "  <tbody>\n",
              "    <tr>\n",
              "      <th>1</th>\n",
              "      <td>0.39</td>\n",
              "      <td>0.34</td>\n",
              "      <td>0.9</td>\n",
              "      <td>0:05:47</td>\n",
              "      <td>0:00:11</td>\n",
              "    </tr>\n",
              "    <tr>\n",
              "      <th>2</th>\n",
              "      <td>0.23</td>\n",
              "      <td>0.33</td>\n",
              "      <td>0.9</td>\n",
              "      <td>0:05:46</td>\n",
              "      <td>0:00:11</td>\n",
              "    </tr>\n",
              "    <tr>\n",
              "      <th>3</th>\n",
              "      <td>0.15</td>\n",
              "      <td>0.39</td>\n",
              "      <td>0.9</td>\n",
              "      <td>0:05:45</td>\n",
              "      <td>0:00:11</td>\n",
              "    </tr>\n",
              "    <tr>\n",
              "      <th>4</th>\n",
              "      <td>0.10</td>\n",
              "      <td>0.46</td>\n",
              "      <td>0.9</td>\n",
              "      <td>0:05:43</td>\n",
              "      <td>0:00:11</td>\n",
              "    </tr>\n",
              "  </tbody>\n",
              "</table>\n",
              "</div>"
            ],
            "text/plain": [
              "       Training Loss  Valid. Loss  Valid. Accur. Training Time Validation Time\n",
              "epoch                                                                         \n",
              "1               0.39         0.34            0.9       0:05:47         0:00:11\n",
              "2               0.23         0.33            0.9       0:05:46         0:00:11\n",
              "3               0.15         0.39            0.9       0:05:45         0:00:11\n",
              "4               0.10         0.46            0.9       0:05:43         0:00:11"
            ]
          },
          "metadata": {
            "tags": []
          },
          "execution_count": 55
        }
      ]
    },
    {
      "cell_type": "code",
      "metadata": {
        "id": "XM7xd6goGx4q",
        "colab_type": "code",
        "colab": {
          "base_uri": "https://localhost:8080/",
          "height": 388
        },
        "outputId": "37ad5c43-7c58-484f-904d-b7f1e664d368"
      },
      "source": [
        "rcParams['figure.figsize'] = 8,6\n",
        "# plt.plot(history.history['loss'])\n",
        "plt.plot(df_stats['Training Loss'], 'b-o', label=\"Train\")\n",
        "plt.plot(df_stats['Valid. Loss'], 'g-o', label=\"Validation\")\n",
        "plt.ylabel('loss')\n",
        "plt.xlabel('epoch')\n",
        "plt.legend(['train', 'validation'], loc='right')\n",
        "plt.show()"
      ],
      "execution_count": null,
      "outputs": [
        {
          "output_type": "display_data",
          "data": {
            "image/png": "[encoded data removed]",
            "text/plain": [
              "<Figure size 576x432 with 1 Axes>"
            ]
          },
          "metadata": {
            "tags": [],
            "needs_background": "light"
          }
        }
      ]
    },
    {
      "cell_type": "code",
      "metadata": {
        "id": "ssYb_amF1IX6",
        "colab_type": "code",
        "colab": {
          "base_uri": "https://localhost:8080/",
          "height": 51
        },
        "outputId": "7c01904c-839d-45f5-d494-61bbf4921f1e"
      },
      "source": [
        "# Prediction on test set\n",
        "\n",
        "print('Predicting labels for {:,} test sentences...'.format(len(input_ids)))\n",
        "\n",
        "# Put model in evaluation mode\n",
        "model.eval()\n",
        "\n",
        "# Tracking variables \n",
        "predictions , true_labels = [], []\n",
        "\n",
        "# Predict \n",
        "for batch in prediction_dataloader:\n",
        "  # Add batch to GPU\n",
        "  batch = tuple(t.to(device) for t in batch)\n",
        "  \n",
        "  # Unpack the inputs from our dataloader\n",
        "  b_input_ids, b_input_mask, b_labels = batch\n",
        "  \n",
        "  # Telling the model not to compute or store gradients, saving memory and \n",
        "  # speeding up prediction\n",
        "  with torch.no_grad():\n",
        "      # Forward pass, calculate logit predictions\n",
        "      outputs = model(b_input_ids, token_type_ids=None, \n",
        "                      attention_mask=b_input_mask)\n",
        "\n",
        "  logits = outputs[0]\n",
        "\n",
        "  # Move logits and labels to CPU\n",
        "  logits = logits.detach().cpu().numpy()\n",
        "  label_ids = b_labels.to('cpu').numpy()\n",
        "  \n",
        "  # Store predictions and true labels\n",
        "  predictions.append(logits)\n",
        "  true_labels.append(label_ids)\n",
        "\n",
        "print('    DONE.')"
      ],
      "execution_count": null,
      "outputs": [
        {
          "output_type": "stream",
          "text": [
            "Predicting labels for 5,509 test sentences...\n",
            "    DONE.\n"
          ],
          "name": "stdout"
        }
      ]
    },
    {
      "cell_type": "code",
      "metadata": {
        "id": "cRU17yod9IhS",
        "colab_type": "code",
        "colab": {
          "base_uri": "https://localhost:8080/",
          "height": 170
        },
        "outputId": "a22c0aa3-36d0-4680-ef1d-7f7dd2d8c6ee"
      },
      "source": [
        "accuracy, microPrecision, microRecall, microF1 = getMetrics(np.concatenate(predictions), to_categorical(np.asarray(bertTestLabels)))"
      ],
      "execution_count": null,
      "outputs": [
        {
          "output_type": "stream",
          "text": [
            "True Positives per class :  [4244.  206.  199.  262.]\n",
            "False Positives per class :  [100. 191. 126. 181.]\n",
            "False Negatives per class :  [433.  78.  51.  36.]\n",
            "Class happy : Precision : 0.519, Recall : 0.725, F1 : 0.605\n",
            "Class sad : Precision : 0.612, Recall : 0.796, F1 : 0.692\n",
            "Class angry : Precision : 0.591, Recall : 0.879, F1 : 0.707\n",
            "Ignoring the Others class, Macro Precision : 0.5742, Macro Recall : 0.8002, Macro F1 : 0.6686\n",
            "Ignoring the Others class, Micro TP : 667, FP : 498, FN : 165\n",
            "Accuracy : 0.8915, Micro Precision : 0.5725, Micro Recall : 0.8017, Micro F1 : 0.6680\n"
          ],
          "name": "stdout"
        }
      ]
    },
    {
      "cell_type": "code",
      "metadata": {
        "id": "55SksuLu19pf",
        "colab_type": "code",
        "colab": {
          "base_uri": "https://localhost:8080/",
          "height": 68
        },
        "outputId": "47c0b59a-8281-427a-9459-1e4f5d1ccf4b"
      },
      "source": [
        "output_dir = mainPath + 'bert_32'\n",
        "\n",
        "if not os.path.exists(output_dir):\n",
        "    os.makedirs(output_dir)\n",
        "\n",
        "model_to_save = model.module if hasattr(model, 'module') else model  # Take care of distributed/parallel training\n",
        "model_to_save.save_pretrained(output_dir)\n",
        "bertTokenizer.save_pretrained(output_dir)"
      ],
      "execution_count": 32,
      "outputs": [
        {
          "output_type": "execute_result",
          "data": {
            "text/plain": [
              "('/content/drive/My Drive/Magisterka/bert_32/vocab.txt',\n",
              " '/content/drive/My Drive/Magisterka/bert_32/special_tokens_map.json',\n",
              " '/content/drive/My Drive/Magisterka/bert_32/added_tokens.json')"
            ]
          },
          "metadata": {
            "tags": []
          },
          "execution_count": 32
        }
      ]
    }
  ]
}